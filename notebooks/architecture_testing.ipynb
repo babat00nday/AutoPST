{
  "nbformat": 4,
  "nbformat_minor": 0,
  "metadata": {
    "colab": {
      "provenance": [],
      "collapsed_sections": [
        "dependency_installation",
        "repository_setup",
        "architecture_1_testing",
        "architecture_2_testing",
        "architecture_3_testing"
      ]
    },
    "kernelspec": {
      "name": "python3",
      "display_name": "Python 3"
    },
    "language_info": {
      "name": "python"
    }
  },
  "cells": [
    {
      "cell_type": "markdown",
      "source": [
        "# Consolidated Architecture Testing\n",
        "\n",
        "This notebook tests all three language learning tutor architectures:\n",
        "- **Architecture 1 (v47)**: Facade pattern - Basic functionality testing\n",
        "- **Architecture 2 (v41)**: System pattern - Progression and analytics testing  \n",
        "- **Architecture 3 (v28)**: Generative pattern - Enhanced curriculum testing\n",
        "\n",
        "**Instructions for Colab:**\n",
        "1. Open this notebook via: File → Open notebook → GitHub → `language-tutor-research/notebooks/architecture_testing.ipynb`\n",
        "2. Run cells in sequence: Dependencies → Repository Setup → Individual Tests or Run All Tests\n",
        "3. Each architecture can be tested independently by running its respective section\n",
        "\n",
        "**Benefits of this approach:**\n",
        "- Interactive cell-by-cell execution in Colab\n",
        "- Access to all repository modules via `src.` imports\n",
        "- Temporary changes don't affect the repository unless committed"
      ],
      "metadata": {
        "id": "notebook_header"
      }
    },
    {
      "cell_type": "markdown",
      "source": [
        "# Dependency Installation"
      ],
      "metadata": {
        "id": "dependency_installation"
      }
    },
    {
      "cell_type": "code",
      "execution_count": 2,
      "metadata": {
        "id": "install_dependencies",
        "outputId": "e4c044f3-fc2a-4bc2-f90c-854dae9bcb6a",
        "colab": {
          "base_uri": "https://localhost:8080/"
        }
      },
      "outputs": [
        {
          "output_type": "stream",
          "name": "stdout",
          "text": [
            "✅ Dependencies installed successfully!\n"
          ]
        }
      ],
      "source": [
        "# Install required libraries for all architectures\n",
        "!pip install dspy-ai==2.6.27 google-generativeai==0.8.5 anthropic==0.58.2 -q\n",
        "print(\"✅ Dependencies installed successfully!\")"
      ]
    },
    {
      "cell_type": "markdown",
      "source": [
        "# Repository Setup"
      ],
      "metadata": {
        "id": "repository_setup"
      }
    },
    {
      "cell_type": "code",
      "source": [
        "import os\n",
        "import sys\n",
        "from google.colab import userdata\n",
        "\n",
        "# Repository configuration\n",
        "GIT_ACCESS_TOKEN = userdata.get('GIT_ACCESS_TOKEN')\n",
        "ORG_NAME = \"amazethu\"\n",
        "REPO_NAME = \"language-tutor-research\"\n",
        "REPO_URL = f\"https://{GIT_ACCESS_TOKEN}@github.com/{ORG_NAME}/{REPO_NAME}.git\"\n",
        "\n",
        "print(\"🔧 Setting up repository access...\")\n",
        "\n",
        "try:\n",
        "    # Check if we're already in the right directory\n",
        "    if os.path.basename(os.getcwd()) == REPO_NAME:\n",
        "        print(f\"✅ Already in {REPO_NAME} directory\")\n",
        "    elif os.path.exists(REPO_NAME):\n",
        "        print(f\"📁 Found existing {REPO_NAME} directory\")\n",
        "        os.chdir(REPO_NAME)\n",
        "        print(f\"✅ Changed to {REPO_NAME} directory\")\n",
        "    else:\n",
        "        # Clone the repository\n",
        "        print(f\"📥 Cloning repository from {REPO_URL}...\")\n",
        "        !git clone {REPO_URL}\n",
        "        os.chdir(REPO_NAME)\n",
        "        print(f\"✅ Repository cloned and entered {REPO_NAME} directory\")\n",
        "\n",
        "    # Verify we can access the source modules\n",
        "    if os.path.exists('src'):\n",
        "        print(\"✅ Source directory found\")\n",
        "    else:\n",
        "        print(\"❌ Source directory not found - check repository structure\")\n",
        "\n",
        "    if os.path.exists('notebooks'):\n",
        "        print(\"✅ Notebooks directory found\")\n",
        "\n",
        "    # Show current directory structure\n",
        "    print(\"\\n📂 Current directory contents:\")\n",
        "    !ls -la\n",
        "\n",
        "    print(f\"\\n✅ Repository setup complete! Current directory: {os.getcwd()}\")\n",
        "\n",
        "except Exception as e:\n",
        "    print(f\"❌ Repository setup failed: {e}\")\n",
        "    print(\"Please check the repository URL and ensure the repository is accessible\")\n",
        "    raise"
      ],
      "metadata": {
        "id": "setup_repository",
        "outputId": "a04bb8fd-6433-4ee4-a6bb-09c7cd5b3380",
        "colab": {
          "base_uri": "https://localhost:8080/"
        }
      },
      "execution_count": 1,
      "outputs": [
        {
          "output_type": "stream",
          "name": "stdout",
          "text": [
            "🔧 Setting up repository access...\n",
            "📁 Found existing language-tutor-research directory\n",
            "✅ Changed to language-tutor-research directory\n",
            "✅ Source directory found\n",
            "✅ Notebooks directory found\n",
            "\n",
            "📂 Current directory contents:\n",
            "total 44\n",
            "drwxr-xr-x 9 root root 4096 Sep  1 10:44 .\n",
            "drwxr-xr-x 1 root root 4096 Sep  1 10:44 ..\n",
            "drwxr-xr-x 2 root root 4096 Sep  1 10:44 docs\n",
            "drwxr-xr-x 8 root root 4096 Sep  1 11:23 .git\n",
            "-rw-r--r-- 1 root root  310 Sep  1 10:44 .gitignore\n",
            "drwxr-xr-x 2 root root 4096 Sep  1 10:44 notebooks\n",
            "-rw-r--r-- 1 root root  120 Sep  1 10:44 README.md\n",
            "drwxr-xr-x 2 root root 4096 Sep  1 10:44 scripts\n",
            "drwxr-xr-x 3 root root 4096 Sep  1 10:44 src\n",
            "drwxr-xr-x 2 root root 4096 Sep  1 10:44 tests\n",
            "drwxr-xr-x 3 root root 4096 Sep  1 10:44 wip-handoff\n",
            "\n",
            "✅ Repository setup complete! Current directory: /content/language-tutor-research\n"
          ]
        }
      ]
    },
    {
      "cell_type": "markdown",
      "source": [
        "# Architecture 1 Testing (Facade Pattern v47)"
      ],
      "metadata": {
        "id": "architecture_1_testing"
      }
    },
    {
      "cell_type": "code",
      "source": [
        "# Architecture 1 Test - Latest version from arch_1.ipynb (test-v7)\n",
        "print(\"🏗️ Testing Architecture 1 (Facade Pattern v47)\")\n",
        "print(\"=\" * 50)\n",
        "\n",
        "try:\n",
        "    from src.language_tutor.language_tutor.architectures.core_tutor_engine_v1 import create_learning_system\n",
        "\n",
        "    # Test the system directly\n",
        "    print(\"[about to start] Enhanced Language Learning System Test\")\n",
        "    print(\"=====================================\")\n",
        "\n",
        "    # Create system with auto-save\n",
        "    facade = create_learning_system({\n",
        "        \"mock_mode\": False,\n",
        "        \"tutor_name\": \"Marc\",\n",
        "        \"model_name\": \"gemini-2.0-flash\",\n",
        "        \"interaction_modality\": \"text2text\",\n",
        "        \"environment\": \"test\",\n",
        "    })\n",
        "\n",
        "    # Get accelerated testing parameters\n",
        "    num_turns = 4\n",
        "    proficiency = \"good\"\n",
        "    delay = 14\n",
        "    turns_per_topic = 2\n",
        "\n",
        "    # Run the accelerated test through the facade\n",
        "    facade.run_simulation(\n",
        "        num_turns=num_turns,\n",
        "        proficiency=proficiency,\n",
        "        delay=delay,\n",
        "        turns_per_topic=turns_per_topic\n",
        "    )\n",
        "\n",
        "    print(\"=====================================\")\n",
        "    print(\"[completed] Enhanced Language Learning System Test\")\n",
        "    print(\"✅ Architecture 1 test passed!\")\n",
        "\n",
        "except Exception as e:\n",
        "    print(f\"❌ Architecture 1 test failed: {e}\")\n",
        "    import traceback\n",
        "    traceback.print_exc()"
      ],
      "metadata": {
        "id": "test_architecture_1",
        "outputId": "0067509d-6dd9-4614-e1c3-5a74211d5e50",
        "colab": {
          "base_uri": "https://localhost:8080/",
          "height": 1000
        }
      },
      "execution_count": 7,
      "outputs": [
        {
          "output_type": "stream",
          "name": "stdout",
          "text": [
            "🏗️ Testing Architecture 1 (Facade Pattern v47)\n",
            "==================================================\n",
            "📦 Language Tutor Core imported - call initialize() to load architectures\n",
            "🔄 Initializing dedicated DSPy thread...\n",
            "✅ DSPy dedicated thread initialized: 136513203861056\n",
            "✅ DSPy manager imported successfully\n",
            "📚 Enhanced Language Learning System ('facade') loaded\n"
          ]
        },
        {
          "output_type": "display_data",
          "data": {
            "text/plain": [
              "<IPython.core.display.HTML object>"
            ],
            "text/html": [
              "<div style='padding:5px; color:white; background-color:#228B22; border-radius:5px; margin:2px 0;'><b>[SUCCESS]</b> [2025-09-01 10:48:45] Enhanced Language Learning System ('system') loaded successfully </div>"
            ]
          },
          "metadata": {}
        },
        {
          "output_type": "stream",
          "name": "stdout",
          "text": [
            "🎯 Enhanced Language Learning System ('generative') successfully!\n",
            "🏗️  Language Tutor Architecture Status:\n",
            "   ✅ v1 Enhanced Multi-Agent: Available\n",
            "   ✅ v2 Multi-Agent: Available\n",
            "   ✅ v3 Generative: Available\n",
            "   🎯 Recommended: core_tutor_engine_v1\n",
            "[about to start] Enhanced Language Learning System Test\n",
            "=====================================\n",
            "Created GeminiLM with model: gemini/gemini-2.0-flash/test\n",
            "Using gemini model: gemini-2.0-flash in test environment\n",
            "🔧 Configuring DSPy with <src.language_tutor.language_tutor.architectures.v1.dspy_modality.GeminiLM object at 0x7c2883ecc380> on thread 136513203861056\n",
            "✅ DSPy configured successfully on dedicated thread 136513203861056\n",
            "DSPy configured successfully with gemini model: gemini-2.0-flash in test environment\n",
            "State transition: INITIALIZING → INTRODUCTION\n",
            "Complete Enhanced Language Learning System initialized with text2text modality in test environment\n",
            "Enhanced LanguageLearningFacade initialized in LIVE MODE (using gemini-2.0-flash) in test environment with text2text modality\n",
            "Starting simulated session with 4 turns, proficiency: good, delay: 14s in test environment\n",
            "Topic advancement: forced every 2 turns (testing mode)\n",
            "WARNING: Detected modality-inappropriate content for text2text: \\b(?:pronounc|speak|say|listen|hear|sound)\\b\n",
            "State transition: INTRODUCTION → TEACHING\n",
            "Tutor: Hello! Welcome to your French lesson. Today, we'll start with the very basics: greetings. The most important one is 'Bonjour.' Can you see how it's made of 'bon,' meaning 'good,' and 'jour,' meaning 'day'? So, literally, it's 'good day.'\n",
            "\n",
            "Now, can you guess how you might say 'good evening' or 'good night'? Think about what word we might use instead of 'jour'.\n",
            "Student: Bonsoir?\n",
            "Teaching agent modality updated to: text2text\n",
            "Evaluation agent modality updated to: text2text\n",
            "System state restored successfully\n",
            "Restored to: Level A0, Topic: Basic Greetings, State: TEACHING, Environment: test\n",
            "WARNING: Detected modality-inappropriate content for text2text: \\b(?:pronunciation|intonation|accent|vocal)\\b\n",
            "WARNING: Detected modality-inappropriate content for text2text: \\b(?:pronounc|speak|say|listen|hear|sound)\\b\n",
            "State transition: TEACHING → EVALUATING\n",
            "Invalid mastery score format. Using default 0.\n",
            "Evaluated mastery score: 0 for Basic Greetings at A0\n",
            "State transition: EVALUATING → TEACHING\n",
            "Tutor: Excellent! 'Bonsoir' is indeed 'Good evening' or 'Good night.' You're already seeing how French reuses elements. Try to remember the pattern we just used. How would you apply it here?. 'Bon' is 'good,' and 'soir' is 'evening.'\n",
            "\n",
            "Now, a slight nuance: While 'Bonsoir' works for 'Good evening,' there's a more specific way to say 'Good night' when you're going to bed. Any thoughts on what that might be? It also starts with 'bon'.\n",
            "Student: Bonne nuit?\n",
            "Teaching agent modality updated to: text2text\n",
            "Evaluation agent modality updated to: text2text\n",
            "System state restored successfully\n",
            "Restored to: Level A0, Topic: Basic Greetings, State: TEACHING, Environment: test\n",
            "WARNING: Detected modality-inappropriate content for text2text: \\b(?:pronunciation|intonation|accent|vocal)\\b\n",
            "State transition: TEACHING → EVALUATING\n",
            "Evaluated mastery score: 0.6 for Basic Greetings at A0\n",
            "State transition: EVALUATING → TEACHING\n",
            "Tutor: Parfait! 'Bonne nuit' is exactly right for 'Good night' when you're going to bed. Notice that it's 'bonne' instead of 'bon'. Why do you think that is? Remember, in French, words often change slightly depending on what they're describing. Think about what 'nuit' means.\n",
            "\n",
            "🚀 FORCED TOPIC ADVANCEMENT after 2 turns\n",
            "🔄 Advanced to next topic: Numbers 1-10 at A0\n",
            "State transition: TEACHING → INTRODUCTION\n",
            "WARNING: Detected modality-inappropriate content for text2text: \\b(?:pronounc|speak|say|listen|hear|sound)\\b\n",
            "Advanced to: \n",
            "            🧪 TESTING: Forced advancement from Basic Greetings to Numbers 1-10.\n",
            "            (In normal operation, this would require mastery demonstration)\n",
            "            \n",
            "\n",
            "Hello! Welcome to your French lesson. Today, we'll gently introduce ourselves to the numbers 1 to 10. Don't worry about memorizing, just focus on the *sound* and *feel* of the language. We'll start with 'un'. Can you see how that looks and sounds?\n",
            "Student: Because nuit is feminine?\n",
            "Teaching agent modality updated to: text2text\n",
            "Evaluation agent modality updated to: text2text\n",
            "System state restored successfully\n",
            "Restored to: Level A0, Topic: Numbers 1-10, State: INTRODUCTION, Environment: test\n",
            "WARNING: Detected modality-inappropriate content for text2text: \\b(?:pronunciation|intonation|accent|vocal)\\b\n",
            "WARNING: Detected modality-inappropriate content for text2text: \\b(?:repeat after me|say it aloud|listen carefully)\\b\n",
            "State transition: INTRODUCTION → EVALUATING\n",
            "Evaluated mastery score: 0.1 for Numbers 1-10 at A0\n",
            "State transition: EVALUATING → TEACHING\n",
            "Tutor: Exactement! That's right. 'Nuit' is feminine, so 'bon' becomes 'bonne' to agree with it. You're already picking up on these important agreements. \n",
            "\n",
            "Now, let's move on to numbers. Knowing your numbers will open up so many possibilities!\n",
            "\n",
            "We'll start with the first few. Pause for a moment and consider what this phrase might mean in English.. Are you ready?\n",
            "\n",
            "The first number is 'un'. Repeat after me... or rather, read after me: 'un'. That's the number 1. See how it's spelled? Can you see the pattern?\n",
            "Student: Oui, je suis prêt. Un... it's like 'one'?\n",
            "Teaching agent modality updated to: text2text\n",
            "Evaluation agent modality updated to: text2text\n",
            "System state restored successfully\n",
            "Restored to: Level A0, Topic: Numbers 1-10, State: TEACHING, Environment: test\n",
            "WARNING: Detected modality-inappropriate content for text2text: \\b(?:pronunciation|intonation|accent|vocal)\\b\n",
            "WARNING: Detected modality-inappropriate content for text2text: \\b(?:pronounc|speak|say|listen|hear|sound)\\b\n",
            "State transition: TEACHING → EVALUATING\n",
            "Evaluated mastery score: 0.2 for Numbers 1-10 at A0\n",
            "State transition: EVALUATING → TEACHING\n",
            "Tutor: Oui, c'est ça! 'Un' is like 'one.' Very good. You're making the connection already. Take a moment to think about how we say this in French.. Now, let's continue. What do you think 'deux' might be? Take a look at how it's spelled. Any ideas?\n",
            "\n",
            "🚀 FORCED TOPIC ADVANCEMENT after 2 turns\n",
            "🔄 Advanced to next topic: Yes and No at A0\n",
            "State transition: TEACHING → INTRODUCTION\n",
            "WARNING: Detected modality-inappropriate content for text2text: \\b(?:pronounc|speak|say|listen|hear|sound)\\b\n",
            "Advanced to: \n",
            "            🧪 TESTING: Forced advancement from Numbers 1-10 to Yes and No.\n",
            "            (In normal operation, this would require mastery demonstration)\n",
            "            \n",
            "\n",
            "Hello! Welcome to your French lesson. Today, we'll gently explore how to say 'yes' and 'no'. Are you ready to begin?\n",
            "Simulation completed after 4 turns.\n",
            "Learning summary: 4 concepts introduced, 0 concepts mastered\n",
            "=====================================\n",
            "[completed] Enhanced Language Learning System Test\n",
            "✅ Architecture 1 test passed!\n"
          ]
        }
      ]
    },
    {
      "cell_type": "markdown",
      "source": [
        "# Architecture 2 Testing (System Pattern v41)"
      ],
      "metadata": {
        "id": "architecture_2_testing"
      }
    },
    {
      "cell_type": "code",
      "source": [
        "# Architecture 2 Test - Latest version from arch_2.ipynb (test-v3)\n",
        "print(\"\\n🏗️ Testing Architecture 2 (System Pattern v41)\")\n",
        "print(\"=\" * 50)\n",
        "\n",
        "try:\n",
        "    from src.language_tutor.language_tutor.architectures.core_tutor_engine_v2 import create_complete_system\n",
        "\n",
        "    # Create an instance\n",
        "    tutor_system = create_complete_system(\n",
        "        model_name=\"gemini-2.0-flash\",\n",
        "        tutor_name=\"Jacque\",\n",
        "        mock_mode=False,\n",
        "        environment=\"test\",\n",
        "    )\n",
        "\n",
        "    # Get accelerated testing parameters\n",
        "    num_turns = 4\n",
        "    delay = 4\n",
        "    num_turns_per_topic = 2\n",
        "\n",
        "    # Run a quick automated test\n",
        "    test_results = tutor_system.run_deterministic_simulation(\n",
        "        num_turns=num_turns,\n",
        "        num_turns_per_topic=num_turns_per_topic,\n",
        "        delay=delay\n",
        "    )\n",
        "\n",
        "    # Print a summary of test results\n",
        "    print(\"\\nTEST SUMMARY:\")\n",
        "    print(f\"Completed exchanges: {test_results}\")\n",
        "\n",
        "    print(\"\\n✅ Architecture 2 test passed!\")\n",
        "\n",
        "except Exception as e:\n",
        "    print(f\"❌ Architecture 2 test failed: {e}\")\n",
        "    import traceback\n",
        "    traceback.print_exc()"
      ],
      "metadata": {
        "id": "test_architecture_2",
        "outputId": "b674f529-099c-4461-c323-cdcbd169fafc",
        "colab": {
          "base_uri": "https://localhost:8080/",
          "height": 1000
        }
      },
      "execution_count": 8,
      "outputs": [
        {
          "output_type": "stream",
          "name": "stdout",
          "text": [
            "\n",
            "🏗️ Testing Architecture 2 (System Pattern v41)\n",
            "==================================================\n"
          ]
        },
        {
          "output_type": "display_data",
          "data": {
            "text/plain": [
              "<IPython.core.display.HTML object>"
            ],
            "text/html": [
              "<div style='padding:5px; color:white; background-color:#1E90FF; border-radius:5px; margin:2px 0;'><b>[INFO]</b> [2025-09-01 10:52:10] Creating complete enhanced language learning system with call-level state management</div>"
            ]
          },
          "metadata": {}
        },
        {
          "output_type": "display_data",
          "data": {
            "text/plain": [
              "<IPython.core.display.HTML object>"
            ],
            "text/html": [
              "<div style='padding:5px; color:white; background-color:#1E90FF; border-radius:5px; margin:2px 0;'><b>[INFO]</b> [2025-09-01 10:52:10] Creating gemini language model: gemini-2.0-flash in test</div>"
            ]
          },
          "metadata": {}
        },
        {
          "output_type": "display_data",
          "data": {
            "text/plain": [
              "<IPython.core.display.HTML object>"
            ],
            "text/html": [
              "<div style='padding:5px; color:white; background-color:#228B22; border-radius:5px; margin:2px 0;'><b>[SUCCESS]</b> [2025-09-01 10:52:10] Initialized GeminiLM with gemini/gemini-2.0-flash in test environment</div>"
            ]
          },
          "metadata": {}
        },
        {
          "output_type": "display_data",
          "data": {
            "text/plain": [
              "<IPython.core.display.HTML object>"
            ],
            "text/html": [
              "<div style='padding:5px; color:white; background-color:#228B22; border-radius:5px; margin:2px 0;'><b>[SUCCESS]</b> [2025-09-01 10:52:10] Using gemini model: gemini-2.0-flash in test</div>"
            ]
          },
          "metadata": {}
        },
        {
          "output_type": "stream",
          "name": "stdout",
          "text": [
            "🔧 Configuring DSPy with <src.language_tutor.language_tutor.architectures.v2.system_utils.GeminiLM object at 0x7c287514a780> on thread 136513203861056\n",
            "✅ DSPy configured successfully on dedicated thread 136513203861056\n"
          ]
        },
        {
          "output_type": "display_data",
          "data": {
            "text/plain": [
              "<IPython.core.display.HTML object>"
            ],
            "text/html": [
              "<div style='padding:5px; color:white; background-color:#2E8B57; border-radius:5px; margin:2px 0;'><b>[STATE_CHANGE]</b> [2025-09-01 10:52:10] State transition #1: INITIALIZING → INTRODUCTION (Reason: System initialization)</div>"
            ]
          },
          "metadata": {}
        },
        {
          "output_type": "display_data",
          "data": {
            "text/plain": [
              "<IPython.core.display.HTML object>"
            ],
            "text/html": [
              "<div style='padding:5px; color:white; background-color:#228B22; border-radius:5px; margin:2px 0;'><b>[SUCCESS]</b> [2025-09-01 10:52:10] Enhanced Language Learning System initialized with text2text modality in test</div>"
            ]
          },
          "metadata": {}
        },
        {
          "output_type": "display_data",
          "data": {
            "text/plain": [
              "<IPython.core.display.HTML object>"
            ],
            "text/html": [
              "<div style='padding:5px; color:white; background-color:#228B22; border-radius:5px; margin:2px 0;'><b>[SUCCESS]</b> [2025-09-01 10:52:10] Enhanced Language Learning Facade initialized in LIVE MODE (using gemini gemini-2.0-flash in test), Default modality: text2text</div>"
            ]
          },
          "metadata": {}
        },
        {
          "output_type": "display_data",
          "data": {
            "text/plain": [
              "<IPython.core.display.HTML object>"
            ],
            "text/html": [
              "<div style='padding:5px; color:white; background-color:#228B22; border-radius:5px; margin:2px 0;'><b>[SUCCESS]</b> [2025-09-01 10:52:10] System creation successful</div>"
            ]
          },
          "metadata": {}
        },
        {
          "output_type": "display_data",
          "data": {
            "text/plain": [
              "<IPython.core.display.HTML object>"
            ],
            "text/html": [
              "<div style='padding:5px; color:white; background-color:#32CD32; border-radius:5px; margin:2px 0;'><b>[ADVANCEMENT]</b> [2025-09-01 10:52:10] Starting PROGRESSION TESTING simulation: 2 turns per topic</div>"
            ]
          },
          "metadata": {}
        },
        {
          "output_type": "display_data",
          "data": {
            "text/plain": [
              "<IPython.core.display.HTML object>"
            ],
            "text/html": [
              "<div style='padding:5px; color:white; background-color:#1E90FF; border-radius:5px; margin:2px 0;'><b>[INFO]</b> [2025-09-01 10:52:10] Session started fresh</div>"
            ]
          },
          "metadata": {}
        },
        {
          "output_type": "display_data",
          "data": {
            "text/plain": [
              "<IPython.core.display.HTML object>"
            ],
            "text/html": [
              "<div style='padding:5px; color:white; background-color:#2E8B57; border-radius:5px; margin:2px 0;'><b>[STATE_CHANGE]</b> [2025-09-01 10:52:10] State transition #2: INTRODUCTION → TEACHING (Reason: Introduction completed)</div>"
            ]
          },
          "metadata": {}
        },
        {
          "output_type": "display_data",
          "data": {
            "text/plain": [
              "<IPython.core.display.HTML object>"
            ],
            "text/html": [
              "<div style='padding:10px; background-color:#f0f7fb; border-left:5px solid #3498db; margin-bottom:10px;'><b>🧑‍🏫 Tutor: </b>Bonjour! I'm Jacque, your French tutor. Today we'll be learning about Basic Greetings.\n",
              "\n",
              "Greetings are essential in French culture. I'll show you when and how to use different greetings appropriately, just like native speakers do.\n",
              "\n",
              "Let's start with a simple question: Think about how you greet people in English at different times of day. How do you think you would greet someone in French during the daytime?</div>"
            ]
          },
          "metadata": {}
        },
        {
          "output_type": "display_data",
          "data": {
            "text/plain": [
              "<IPython.core.display.HTML object>"
            ],
            "text/html": [
              "<div style='padding:5px; color:white; background-color:#32CD32; border-radius:5px; margin:2px 0;'><b>[ADVANCEMENT]</b> [2025-09-01 10:52:10] Starting position: A0 - Basic Greetings</div>"
            ]
          },
          "metadata": {}
        },
        {
          "output_type": "display_data",
          "data": {
            "text/plain": [
              "<IPython.core.display.HTML object>"
            ],
            "text/html": [
              "<div style='padding:10px; background-color:#f9f9f9; border-left:5px solid #7f8c8d; margin-bottom:10px;'><b>👤 Student: </b>Bonjour!</div>"
            ]
          },
          "metadata": {}
        },
        {
          "output_type": "display_data",
          "data": {
            "text/plain": [
              "<IPython.core.display.HTML object>"
            ],
            "text/html": [
              "<div style='padding:5px; color:white; background-color:#228B22; border-radius:5px; margin:2px 0;'><b>[SUCCESS]</b> [2025-09-01 10:52:14] Curriculum restored: A0, topic 0 (Basic Greetings), turn 0</div>"
            ]
          },
          "metadata": {}
        },
        {
          "output_type": "display_data",
          "data": {
            "text/plain": [
              "<IPython.core.display.HTML object>"
            ],
            "text/html": [
              "<div style='padding:5px; color:white; background-color:#228B22; border-radius:5px; margin:2px 0;'><b>[SUCCESS]</b> [2025-09-01 10:52:14] Concept tracker restored: 0 concepts</div>"
            ]
          },
          "metadata": {}
        },
        {
          "output_type": "display_data",
          "data": {
            "text/plain": [
              "<IPython.core.display.HTML object>"
            ],
            "text/html": [
              "<div style='padding:5px; color:white; background-color:#228B22; border-radius:5px; margin:2px 0;'><b>[SUCCESS]</b> [2025-09-01 10:52:14] Memory manager restored from 2025-09-01T10:52:10.086711</div>"
            ]
          },
          "metadata": {}
        },
        {
          "output_type": "display_data",
          "data": {
            "text/plain": [
              "<IPython.core.display.HTML object>"
            ],
            "text/html": [
              "<div style='padding:5px; color:white; background-color:#228B22; border-radius:5px; margin:2px 0;'><b>[SUCCESS]</b> [2025-09-01 10:52:14] State controller restored to TEACHING with 2 transitions</div>"
            ]
          },
          "metadata": {}
        },
        {
          "output_type": "display_data",
          "data": {
            "text/plain": [
              "<IPython.core.display.HTML object>"
            ],
            "text/html": [
              "<div style='padding:5px; color:white; background-color:#228B22; border-radius:5px; margin:2px 0;'><b>[SUCCESS]</b> [2025-09-01 10:52:14] System state restored from 2025-09-01T10:52:10.086736, curriculum progress: 0.0%</div>"
            ]
          },
          "metadata": {}
        },
        {
          "output_type": "display_data",
          "data": {
            "text/plain": [
              "<IPython.core.display.HTML object>"
            ],
            "text/html": [
              "<div style='padding:5px; color:white; background-color:#8A2BE2; border-radius:5px; margin:2px 0;'><b>[PROFILING]</b> [2025-09-01 10:52:15] Turn analysis (text2text): Understanding 50.0%, Error type: none, Action: continue</div>"
            ]
          },
          "metadata": {}
        },
        {
          "output_type": "display_data",
          "data": {
            "text/plain": [
              "<IPython.core.display.HTML object>"
            ],
            "text/html": [
              "<div style='padding:10px; background-color:#f0f7fb; border-left:5px solid #3498db; margin-bottom:10px;'><b>🧑‍🏫 Tutor: </b>Excellent! *Bonjour* is indeed how you say hello during the daytime. Now, let's imagine it's evening. How might you greet someone then? Just take a guess; there are no wrong answers here! Notice the 'ou' spelling pattern in French. Pay attention to the article patterns.</div>"
            ]
          },
          "metadata": {}
        },
        {
          "output_type": "display_data",
          "data": {
            "text/plain": [
              "<IPython.core.display.HTML object>"
            ],
            "text/html": [
              "<div style='padding:10px; background-color:#f9f9f9; border-left:5px solid #7f8c8d; margin-bottom:10px;'><b>👤 Student: </b>Bonsoir?</div>"
            ]
          },
          "metadata": {}
        },
        {
          "output_type": "display_data",
          "data": {
            "text/plain": [
              "<IPython.core.display.HTML object>"
            ],
            "text/html": [
              "<div style='padding:5px; color:white; background-color:#228B22; border-radius:5px; margin:2px 0;'><b>[SUCCESS]</b> [2025-09-01 10:52:21] Curriculum restored: A0, topic 0 (Basic Greetings), turn 1</div>"
            ]
          },
          "metadata": {}
        },
        {
          "output_type": "display_data",
          "data": {
            "text/plain": [
              "<IPython.core.display.HTML object>"
            ],
            "text/html": [
              "<div style='padding:5px; color:white; background-color:#228B22; border-radius:5px; margin:2px 0;'><b>[SUCCESS]</b> [2025-09-01 10:52:21] Concept tracker restored: 1 concepts</div>"
            ]
          },
          "metadata": {}
        },
        {
          "output_type": "display_data",
          "data": {
            "text/plain": [
              "<IPython.core.display.HTML object>"
            ],
            "text/html": [
              "<div style='padding:5px; color:white; background-color:#228B22; border-radius:5px; margin:2px 0;'><b>[SUCCESS]</b> [2025-09-01 10:52:21] Memory manager restored from 2025-09-01T10:52:17.749809</div>"
            ]
          },
          "metadata": {}
        },
        {
          "output_type": "display_data",
          "data": {
            "text/plain": [
              "<IPython.core.display.HTML object>"
            ],
            "text/html": [
              "<div style='padding:5px; color:white; background-color:#228B22; border-radius:5px; margin:2px 0;'><b>[SUCCESS]</b> [2025-09-01 10:52:21] State controller restored to TEACHING with 2 transitions</div>"
            ]
          },
          "metadata": {}
        },
        {
          "output_type": "display_data",
          "data": {
            "text/plain": [
              "<IPython.core.display.HTML object>"
            ],
            "text/html": [
              "<div style='padding:5px; color:white; background-color:#228B22; border-radius:5px; margin:2px 0;'><b>[SUCCESS]</b> [2025-09-01 10:52:21] System state restored from 2025-09-01T10:52:17.749818, curriculum progress: 0.0%</div>"
            ]
          },
          "metadata": {}
        },
        {
          "output_type": "display_data",
          "data": {
            "text/plain": [
              "<IPython.core.display.HTML object>"
            ],
            "text/html": [
              "<div style='padding:5px; color:white; background-color:#8A2BE2; border-radius:5px; margin:2px 0;'><b>[PROFILING]</b> [2025-09-01 10:52:23] Turn analysis (text2text): Understanding 50.0%, Error type: none, Action: continue</div>"
            ]
          },
          "metadata": {}
        },
        {
          "output_type": "display_data",
          "data": {
            "text/plain": [
              "<IPython.core.display.HTML object>"
            ],
            "text/html": [
              "<div style='padding:10px; background-color:#f0f7fb; border-left:5px solid #3498db; margin-bottom:10px;'><b>🧑‍🏫 Tutor: </b>Très bien! *Bonsoir* is exactly right for 'Good evening' or 'Good night.' You're already picking up on the nuances. Notice how *bonjour* and *bonsoir* both start with 'bon,' meaning 'good.' Can you think of other situations where you might use *bonsoir* instead of *bonjour*? Notice the 'ou' spelling pattern in French.</div>"
            ]
          },
          "metadata": {}
        },
        {
          "output_type": "display_data",
          "data": {
            "text/plain": [
              "<IPython.core.display.HTML object>"
            ],
            "text/html": [
              "<div style='padding:5px; color:white; background-color:#1E90FF; border-radius:5px; margin:2px 0;'><b>[INFO]</b> [2025-09-01 10:52:25] Creating complete enhanced language learning system with call-level state management</div>"
            ]
          },
          "metadata": {}
        },
        {
          "output_type": "display_data",
          "data": {
            "text/plain": [
              "<IPython.core.display.HTML object>"
            ],
            "text/html": [
              "<div style='padding:5px; color:white; background-color:#1E90FF; border-radius:5px; margin:2px 0;'><b>[INFO]</b> [2025-09-01 10:52:25] Creating mock language model: mock-gemini-2.0-flash in test</div>"
            ]
          },
          "metadata": {}
        },
        {
          "output_type": "display_data",
          "data": {
            "text/plain": [
              "<IPython.core.display.HTML object>"
            ],
            "text/html": [
              "<div style='padding:5px; color:white; background-color:#FF8C00; border-radius:5px; margin:2px 0;'><b>[WARNING]</b> [2025-09-01 10:52:25] Created MockLM: mock/mock-gemini-2.0-flash in test - FOR TESTING ONLY</div>"
            ]
          },
          "metadata": {}
        },
        {
          "output_type": "display_data",
          "data": {
            "text/plain": [
              "<IPython.core.display.HTML object>"
            ],
            "text/html": [
              "<div style='padding:5px; color:white; background-color:#FF8C00; border-radius:5px; margin:2px 0;'><b>[WARNING]</b> [2025-09-01 10:52:25] Using MOCK LM for testing</div>"
            ]
          },
          "metadata": {}
        },
        {
          "output_type": "stream",
          "name": "stdout",
          "text": [
            "🔧 Configuring DSPy with <src.language_tutor.language_tutor.architectures.v2.system_utils.MockLM object at 0x7c2874826b70> on thread 136513203861056\n",
            "✅ DSPy configured successfully on dedicated thread 136513203861056\n"
          ]
        },
        {
          "output_type": "display_data",
          "data": {
            "text/plain": [
              "<IPython.core.display.HTML object>"
            ],
            "text/html": [
              "<div style='padding:5px; color:white; background-color:#2E8B57; border-radius:5px; margin:2px 0;'><b>[STATE_CHANGE]</b> [2025-09-01 10:52:25] State transition #1: INITIALIZING → INTRODUCTION (Reason: System initialization)</div>"
            ]
          },
          "metadata": {}
        },
        {
          "output_type": "display_data",
          "data": {
            "text/plain": [
              "<IPython.core.display.HTML object>"
            ],
            "text/html": [
              "<div style='padding:5px; color:white; background-color:#228B22; border-radius:5px; margin:2px 0;'><b>[SUCCESS]</b> [2025-09-01 10:52:25] Enhanced Language Learning System initialized with text2text modality in test</div>"
            ]
          },
          "metadata": {}
        },
        {
          "output_type": "display_data",
          "data": {
            "text/plain": [
              "<IPython.core.display.HTML object>"
            ],
            "text/html": [
              "<div style='padding:5px; color:white; background-color:#228B22; border-radius:5px; margin:2px 0;'><b>[SUCCESS]</b> [2025-09-01 10:52:25] Enhanced Language Learning Facade initialized in MOCK MODE (no API costs), Default modality: text2text</div>"
            ]
          },
          "metadata": {}
        },
        {
          "output_type": "display_data",
          "data": {
            "text/plain": [
              "<IPython.core.display.HTML object>"
            ],
            "text/html": [
              "<div style='padding:5px; color:white; background-color:#228B22; border-radius:5px; margin:2px 0;'><b>[SUCCESS]</b> [2025-09-01 10:52:25] System creation successful</div>"
            ]
          },
          "metadata": {}
        },
        {
          "output_type": "display_data",
          "data": {
            "text/plain": [
              "<IPython.core.display.HTML object>"
            ],
            "text/html": [
              "<div style='padding:5px; color:white; background-color:#228B22; border-radius:5px; margin:2px 0;'><b>[SUCCESS]</b> [2025-09-01 10:52:25] Curriculum restored: A0, topic 0 (Basic Greetings), turn 2</div>"
            ]
          },
          "metadata": {}
        },
        {
          "output_type": "display_data",
          "data": {
            "text/plain": [
              "<IPython.core.display.HTML object>"
            ],
            "text/html": [
              "<div style='padding:5px; color:white; background-color:#228B22; border-radius:5px; margin:2px 0;'><b>[SUCCESS]</b> [2025-09-01 10:52:25] Concept tracker restored: 2 concepts</div>"
            ]
          },
          "metadata": {}
        },
        {
          "output_type": "display_data",
          "data": {
            "text/plain": [
              "<IPython.core.display.HTML object>"
            ],
            "text/html": [
              "<div style='padding:5px; color:white; background-color:#228B22; border-radius:5px; margin:2px 0;'><b>[SUCCESS]</b> [2025-09-01 10:52:25] Memory manager restored from 2025-09-01T10:52:25.422927</div>"
            ]
          },
          "metadata": {}
        },
        {
          "output_type": "display_data",
          "data": {
            "text/plain": [
              "<IPython.core.display.HTML object>"
            ],
            "text/html": [
              "<div style='padding:5px; color:white; background-color:#228B22; border-radius:5px; margin:2px 0;'><b>[SUCCESS]</b> [2025-09-01 10:52:25] State controller restored to TEACHING with 2 transitions</div>"
            ]
          },
          "metadata": {}
        },
        {
          "output_type": "display_data",
          "data": {
            "text/plain": [
              "<IPython.core.display.HTML object>"
            ],
            "text/html": [
              "<div style='padding:5px; color:white; background-color:#228B22; border-radius:5px; margin:2px 0;'><b>[SUCCESS]</b> [2025-09-01 10:52:25] System state restored from 2025-09-01T10:52:25.422935, curriculum progress: 0.0%</div>"
            ]
          },
          "metadata": {}
        },
        {
          "output_type": "display_data",
          "data": {
            "text/plain": [
              "<IPython.core.display.HTML object>"
            ],
            "text/html": [
              "<div style='padding:5px; color:white; background-color:#32CD32; border-radius:5px; margin:2px 0;'><b>[ADVANCEMENT]</b> [2025-09-01 10:52:25] FORCED topic advancement: Basic Greetings → Numbers 1-10</div>"
            ]
          },
          "metadata": {}
        },
        {
          "output_type": "display_data",
          "data": {
            "text/plain": [
              "<IPython.core.display.HTML object>"
            ],
            "text/html": [
              "<div style='padding:5px; color:white; background-color:#32CD32; border-radius:5px; margin:2px 0;'><b>[ADVANCEMENT]</b> [2025-09-01 10:52:25] FORCED progression: A0:Basic Greetings → A0:Numbers 1-10 (forced after 2 turns)</div>"
            ]
          },
          "metadata": {}
        },
        {
          "output_type": "display_data",
          "data": {
            "text/plain": [
              "<IPython.core.display.HTML object>"
            ],
            "text/html": [
              "<div style='padding:10px; background-color:#f0f7fb; border-left:5px solid #3498db; margin-bottom:10px;'><b>🧑‍🏫 Tutor: </b>Excellent progress! Let's move on to Numbers 1-10. This builds beautifully on what you already know.</div>"
            ]
          },
          "metadata": {}
        },
        {
          "output_type": "display_data",
          "data": {
            "text/plain": [
              "<IPython.core.display.HTML object>"
            ],
            "text/html": [
              "<div style='padding:10px; background-color:#f9f9f9; border-left:5px solid #7f8c8d; margin-bottom:10px;'><b>👤 Student: </b>I think... salut?</div>"
            ]
          },
          "metadata": {}
        },
        {
          "output_type": "display_data",
          "data": {
            "text/plain": [
              "<IPython.core.display.HTML object>"
            ],
            "text/html": [
              "<div style='padding:5px; color:white; background-color:#228B22; border-radius:5px; margin:2px 0;'><b>[SUCCESS]</b> [2025-09-01 10:52:29] Curriculum restored: A0, topic 1 (Numbers 1-10), turn 0</div>"
            ]
          },
          "metadata": {}
        },
        {
          "output_type": "display_data",
          "data": {
            "text/plain": [
              "<IPython.core.display.HTML object>"
            ],
            "text/html": [
              "<div style='padding:5px; color:white; background-color:#228B22; border-radius:5px; margin:2px 0;'><b>[SUCCESS]</b> [2025-09-01 10:52:29] Concept tracker restored: 2 concepts</div>"
            ]
          },
          "metadata": {}
        },
        {
          "output_type": "display_data",
          "data": {
            "text/plain": [
              "<IPython.core.display.HTML object>"
            ],
            "text/html": [
              "<div style='padding:5px; color:white; background-color:#228B22; border-radius:5px; margin:2px 0;'><b>[SUCCESS]</b> [2025-09-01 10:52:29] Memory manager restored from 2025-09-01T10:52:25.422927</div>"
            ]
          },
          "metadata": {}
        },
        {
          "output_type": "display_data",
          "data": {
            "text/plain": [
              "<IPython.core.display.HTML object>"
            ],
            "text/html": [
              "<div style='padding:5px; color:white; background-color:#228B22; border-radius:5px; margin:2px 0;'><b>[SUCCESS]</b> [2025-09-01 10:52:29] State controller restored to TEACHING with 2 transitions</div>"
            ]
          },
          "metadata": {}
        },
        {
          "output_type": "display_data",
          "data": {
            "text/plain": [
              "<IPython.core.display.HTML object>"
            ],
            "text/html": [
              "<div style='padding:5px; color:white; background-color:#228B22; border-radius:5px; margin:2px 0;'><b>[SUCCESS]</b> [2025-09-01 10:52:29] System state restored from 2025-09-01T10:52:25.422935, curriculum progress: 0.0%</div>"
            ]
          },
          "metadata": {}
        },
        {
          "output_type": "display_data",
          "data": {
            "text/plain": [
              "<IPython.core.display.HTML object>"
            ],
            "text/html": [
              "<div style='padding:5px; color:white; background-color:#8A2BE2; border-radius:5px; margin:2px 0;'><b>[PROFILING]</b> [2025-09-01 10:52:31] Turn analysis (text2text): Understanding 50.0%, Error type: none, Action: continue</div>"
            ]
          },
          "metadata": {}
        },
        {
          "output_type": "display_data",
          "data": {
            "text/plain": [
              "<IPython.core.display.HTML object>"
            ],
            "text/html": [
              "<div style='padding:10px; background-color:#f0f7fb; border-left:5px solid #3498db; margin-bottom:10px;'><b>🧑‍🏫 Tutor: </b>Ah, *salut*! That's a good try! *Salut* is more like a casual 'Hi' or 'Hey' among friends. It's useful, but *bonjour* and *bonsoir* are more polite. Think of *salut* like 'Hi' and *bonjour* like 'Hello'. Now, let's try something new. How do you think you would say 'one' in French? Notice the 'ou' spelling pattern in French. Pay attention to the article patterns.</div>"
            ]
          },
          "metadata": {}
        },
        {
          "output_type": "display_data",
          "data": {
            "text/plain": [
              "<IPython.core.display.HTML object>"
            ],
            "text/html": [
              "<div style='padding:10px; background-color:#f9f9f9; border-left:5px solid #7f8c8d; margin-bottom:10px;'><b>👤 Student: </b>Sept, huit, neuf, dix</div>"
            ]
          },
          "metadata": {}
        },
        {
          "output_type": "display_data",
          "data": {
            "text/plain": [
              "<IPython.core.display.HTML object>"
            ],
            "text/html": [
              "<div style='padding:5px; color:white; background-color:#228B22; border-radius:5px; margin:2px 0;'><b>[SUCCESS]</b> [2025-09-01 10:52:37] Curriculum restored: A0, topic 1 (Numbers 1-10), turn 1</div>"
            ]
          },
          "metadata": {}
        },
        {
          "output_type": "display_data",
          "data": {
            "text/plain": [
              "<IPython.core.display.HTML object>"
            ],
            "text/html": [
              "<div style='padding:5px; color:white; background-color:#228B22; border-radius:5px; margin:2px 0;'><b>[SUCCESS]</b> [2025-09-01 10:52:37] Concept tracker restored: 3 concepts</div>"
            ]
          },
          "metadata": {}
        },
        {
          "output_type": "display_data",
          "data": {
            "text/plain": [
              "<IPython.core.display.HTML object>"
            ],
            "text/html": [
              "<div style='padding:5px; color:white; background-color:#228B22; border-radius:5px; margin:2px 0;'><b>[SUCCESS]</b> [2025-09-01 10:52:37] Memory manager restored from 2025-09-01T10:52:33.802631</div>"
            ]
          },
          "metadata": {}
        },
        {
          "output_type": "display_data",
          "data": {
            "text/plain": [
              "<IPython.core.display.HTML object>"
            ],
            "text/html": [
              "<div style='padding:5px; color:white; background-color:#228B22; border-radius:5px; margin:2px 0;'><b>[SUCCESS]</b> [2025-09-01 10:52:37] State controller restored to TEACHING with 2 transitions</div>"
            ]
          },
          "metadata": {}
        },
        {
          "output_type": "display_data",
          "data": {
            "text/plain": [
              "<IPython.core.display.HTML object>"
            ],
            "text/html": [
              "<div style='padding:5px; color:white; background-color:#228B22; border-radius:5px; margin:2px 0;'><b>[SUCCESS]</b> [2025-09-01 10:52:37] System state restored from 2025-09-01T10:52:33.802640, curriculum progress: 11.1%</div>"
            ]
          },
          "metadata": {}
        },
        {
          "output_type": "display_data",
          "data": {
            "text/plain": [
              "<IPython.core.display.HTML object>"
            ],
            "text/html": [
              "<div style='padding:5px; color:white; background-color:#8A2BE2; border-radius:5px; margin:2px 0;'><b>[PROFILING]</b> [2025-09-01 10:52:40] Turn analysis (text2text): Understanding 50.0%, Error type: none, Action: continue</div>"
            ]
          },
          "metadata": {}
        },
        {
          "output_type": "display_data",
          "data": {
            "text/plain": [
              "<IPython.core.display.HTML object>"
            ],
            "text/html": [
              "<div style='padding:10px; background-color:#f0f7fb; border-left:5px solid #3498db; margin-bottom:10px;'><b>🧑‍🏫 Tutor: </b>Pas mal, but let's focus on the first few numbers first. You jumped ahead a bit! *Sept, huit, neuf, dix* are 7, 8, 9, and 10. Before we get there, let's start with one, two, and three. One in French is *un*. Can you notice how *un*? Pay attention to the article patterns.</div>"
            ]
          },
          "metadata": {}
        },
        {
          "output_type": "display_data",
          "data": {
            "text/plain": [
              "<IPython.core.display.HTML object>"
            ],
            "text/html": [
              "<div style='padding:5px; color:white; background-color:#1E90FF; border-radius:5px; margin:2px 0;'><b>[INFO]</b> [2025-09-01 10:52:42] Creating complete enhanced language learning system with call-level state management</div>"
            ]
          },
          "metadata": {}
        },
        {
          "output_type": "display_data",
          "data": {
            "text/plain": [
              "<IPython.core.display.HTML object>"
            ],
            "text/html": [
              "<div style='padding:5px; color:white; background-color:#1E90FF; border-radius:5px; margin:2px 0;'><b>[INFO]</b> [2025-09-01 10:52:42] Creating mock language model: mock-gemini-2.0-flash in test</div>"
            ]
          },
          "metadata": {}
        },
        {
          "output_type": "display_data",
          "data": {
            "text/plain": [
              "<IPython.core.display.HTML object>"
            ],
            "text/html": [
              "<div style='padding:5px; color:white; background-color:#FF8C00; border-radius:5px; margin:2px 0;'><b>[WARNING]</b> [2025-09-01 10:52:42] Created MockLM: mock/mock-gemini-2.0-flash in test - FOR TESTING ONLY</div>"
            ]
          },
          "metadata": {}
        },
        {
          "output_type": "display_data",
          "data": {
            "text/plain": [
              "<IPython.core.display.HTML object>"
            ],
            "text/html": [
              "<div style='padding:5px; color:white; background-color:#FF8C00; border-radius:5px; margin:2px 0;'><b>[WARNING]</b> [2025-09-01 10:52:42] Using MOCK LM for testing</div>"
            ]
          },
          "metadata": {}
        },
        {
          "output_type": "stream",
          "name": "stdout",
          "text": [
            "🔧 Configuring DSPy with <src.language_tutor.language_tutor.architectures.v2.system_utils.MockLM object at 0x7c28745ec230> on thread 136513203861056\n",
            "✅ DSPy configured successfully on dedicated thread 136513203861056\n"
          ]
        },
        {
          "output_type": "display_data",
          "data": {
            "text/plain": [
              "<IPython.core.display.HTML object>"
            ],
            "text/html": [
              "<div style='padding:5px; color:white; background-color:#2E8B57; border-radius:5px; margin:2px 0;'><b>[STATE_CHANGE]</b> [2025-09-01 10:52:42] State transition #1: INITIALIZING → INTRODUCTION (Reason: System initialization)</div>"
            ]
          },
          "metadata": {}
        },
        {
          "output_type": "display_data",
          "data": {
            "text/plain": [
              "<IPython.core.display.HTML object>"
            ],
            "text/html": [
              "<div style='padding:5px; color:white; background-color:#228B22; border-radius:5px; margin:2px 0;'><b>[SUCCESS]</b> [2025-09-01 10:52:42] Enhanced Language Learning System initialized with text2text modality in test</div>"
            ]
          },
          "metadata": {}
        },
        {
          "output_type": "display_data",
          "data": {
            "text/plain": [
              "<IPython.core.display.HTML object>"
            ],
            "text/html": [
              "<div style='padding:5px; color:white; background-color:#228B22; border-radius:5px; margin:2px 0;'><b>[SUCCESS]</b> [2025-09-01 10:52:42] Enhanced Language Learning Facade initialized in MOCK MODE (no API costs), Default modality: text2text</div>"
            ]
          },
          "metadata": {}
        },
        {
          "output_type": "display_data",
          "data": {
            "text/plain": [
              "<IPython.core.display.HTML object>"
            ],
            "text/html": [
              "<div style='padding:5px; color:white; background-color:#228B22; border-radius:5px; margin:2px 0;'><b>[SUCCESS]</b> [2025-09-01 10:52:42] System creation successful</div>"
            ]
          },
          "metadata": {}
        },
        {
          "output_type": "display_data",
          "data": {
            "text/plain": [
              "<IPython.core.display.HTML object>"
            ],
            "text/html": [
              "<div style='padding:5px; color:white; background-color:#228B22; border-radius:5px; margin:2px 0;'><b>[SUCCESS]</b> [2025-09-01 10:52:42] Curriculum restored: A0, topic 1 (Numbers 1-10), turn 2</div>"
            ]
          },
          "metadata": {}
        },
        {
          "output_type": "display_data",
          "data": {
            "text/plain": [
              "<IPython.core.display.HTML object>"
            ],
            "text/html": [
              "<div style='padding:5px; color:white; background-color:#228B22; border-radius:5px; margin:2px 0;'><b>[SUCCESS]</b> [2025-09-01 10:52:42] Concept tracker restored: 7 concepts</div>"
            ]
          },
          "metadata": {}
        },
        {
          "output_type": "display_data",
          "data": {
            "text/plain": [
              "<IPython.core.display.HTML object>"
            ],
            "text/html": [
              "<div style='padding:5px; color:white; background-color:#228B22; border-radius:5px; margin:2px 0;'><b>[SUCCESS]</b> [2025-09-01 10:52:42] Memory manager restored from 2025-09-01T10:52:42.538773</div>"
            ]
          },
          "metadata": {}
        },
        {
          "output_type": "display_data",
          "data": {
            "text/plain": [
              "<IPython.core.display.HTML object>"
            ],
            "text/html": [
              "<div style='padding:5px; color:white; background-color:#228B22; border-radius:5px; margin:2px 0;'><b>[SUCCESS]</b> [2025-09-01 10:52:42] State controller restored to TEACHING with 2 transitions</div>"
            ]
          },
          "metadata": {}
        },
        {
          "output_type": "display_data",
          "data": {
            "text/plain": [
              "<IPython.core.display.HTML object>"
            ],
            "text/html": [
              "<div style='padding:5px; color:white; background-color:#228B22; border-radius:5px; margin:2px 0;'><b>[SUCCESS]</b> [2025-09-01 10:52:42] System state restored from 2025-09-01T10:52:42.538782, curriculum progress: 11.1%</div>"
            ]
          },
          "metadata": {}
        },
        {
          "output_type": "display_data",
          "data": {
            "text/plain": [
              "<IPython.core.display.HTML object>"
            ],
            "text/html": [
              "<div style='padding:5px; color:white; background-color:#32CD32; border-radius:5px; margin:2px 0;'><b>[ADVANCEMENT]</b> [2025-09-01 10:52:42] FORCED topic advancement: Numbers 1-10 → Yes and No</div>"
            ]
          },
          "metadata": {}
        },
        {
          "output_type": "display_data",
          "data": {
            "text/plain": [
              "<IPython.core.display.HTML object>"
            ],
            "text/html": [
              "<div style='padding:5px; color:white; background-color:#32CD32; border-radius:5px; margin:2px 0;'><b>[ADVANCEMENT]</b> [2025-09-01 10:52:42] FORCED progression: A0:Numbers 1-10 → A0:Yes and No (forced after 2 turns)</div>"
            ]
          },
          "metadata": {}
        },
        {
          "output_type": "display_data",
          "data": {
            "text/plain": [
              "<IPython.core.display.HTML object>"
            ],
            "text/html": [
              "<div style='padding:10px; background-color:#f0f7fb; border-left:5px solid #3498db; margin-bottom:10px;'><b>🧑‍🏫 Tutor: </b>Excellent progress! Let's move on to Yes and No. This builds beautifully on what you already know.</div>"
            ]
          },
          "metadata": {}
        },
        {
          "output_type": "display_data",
          "data": {
            "text/plain": [
              "<IPython.core.display.HTML object>"
            ],
            "text/html": [
              "<div style='padding:5px; color:white; background-color:#1E90FF; border-radius:5px; margin:2px 0;'><b>[INFO]</b> [2025-09-01 10:52:42] Simulation completed: reached 4 turns</div>"
            ]
          },
          "metadata": {}
        },
        {
          "output_type": "display_data",
          "data": {
            "text/plain": [
              "<IPython.core.display.HTML object>"
            ],
            "text/html": [
              "<div style='padding:5px; color:white; background-color:#228B22; border-radius:5px; margin:2px 0;'><b>[SUCCESS]</b> [2025-09-01 10:52:42] Simulation completed. Total turns: 4</div>"
            ]
          },
          "metadata": {}
        },
        {
          "output_type": "stream",
          "name": "stdout",
          "text": [
            "\n",
            "============================================================\n",
            "📊 PROGRESSION TESTING ANALYSIS\n",
            "============================================================\n",
            "📈 PROGRESSION STATISTICS:\n",
            "   • Total Progressions: 2\n",
            "   • Natural Progressions: 0\n",
            "   • Forced Progressions: 2\n",
            "   • Level Changes: 0\n",
            "   • Topic Changes: 2\n",
            "\n",
            "⏱️  TIMING ANALYSIS:\n",
            "   • Average Turns per Topic: 2.0\n",
            "   • Fastest Topic Completion: 2 turns\n",
            "   • Slowest Topic Completion: 2 turns\n",
            "   • Progression Efficiency: 0.0%\n",
            "\n",
            "🔧 RESULT: Forced progression testing completed successfully\n",
            "\n",
            "TEST SUMMARY:\n",
            "Completed exchanges: {'completed': True, 'total_turns': 4, 'final_state': {'curriculum_state': {'current_level': 'A0', 'current_topic_index': 2, 'turn_count': 0, 'current_topic': 'Yes and No'}, 'memory_state': {'session_id': '19164686-40cd-4eab-89ee-5850fbe0e8e8', 'conversation_history': [{'role': 'assistant', 'content': \"Bonjour! I'm Jacque, your French tutor. Today we'll be learning about Basic Greetings.\\n\\nGreetings are essential in French culture. I'll show you when and how to use different greetings appropriately, just like native speakers do.\\n\\nLet's start with a simple question: Think about how you greet people in English at different times of day. How do you think you would greet someone in French during the daytime?\", 'timestamp': '2025-09-01T10:52:10.085493', 'turn_id': 0, 'modality': 'text2text', 'level': 'A0', 'topic': 'Basic Greetings', 'state': 'INTRODUCTION', 'is_introduction': True}, {'role': 'user', 'content': 'Bonjour!', 'timestamp': '2025-09-01T10:52:14.096913', 'turn_id': 1, 'modality': 'text2text', 'level': 'A0', 'topic': 'Basic Greetings', 'turn': 1}, {'role': 'assistant', 'content': \"Excellent! *Bonjour* is indeed how you say hello during the daytime. Now, let's imagine it's evening. How might you greet someone then? Just take a guess; there are no wrong answers here! Notice the 'ou' spelling pattern in French. Pay attention to the article patterns.\", 'timestamp': '2025-09-01T10:52:17.749785', 'turn_id': 2, 'modality': 'text2text', 'level': 'A0', 'topic': 'Basic Greetings', 'turn': 1, 'state': 'TEACHING', 'analysis_score': 50.0}, {'role': 'user', 'content': 'Bonsoir?', 'timestamp': '2025-09-01T10:52:21.758382', 'turn_id': 3, 'modality': 'text2text', 'level': 'A0', 'topic': 'Basic Greetings', 'turn': 2}, {'role': 'assistant', 'content': \"Très bien! *Bonsoir* is exactly right for 'Good evening' or 'Good night.' You're already picking up on the nuances. Notice how *bonjour* and *bonsoir* both start with 'bon,' meaning 'good.' Can you think of other situations where you might use *bonsoir* instead of *bonjour*? Notice the 'ou' spelling pattern in French.\", 'timestamp': '2025-09-01T10:52:25.422901', 'turn_id': 4, 'modality': 'text2text', 'level': 'A0', 'topic': 'Basic Greetings', 'turn': 2, 'state': 'TEACHING', 'analysis_score': 50.0}, {'role': 'user', 'content': 'I think... salut?', 'timestamp': '2025-09-01T10:52:29.453290', 'turn_id': 5, 'modality': 'text2text', 'level': 'A0', 'topic': 'Numbers 1-10', 'turn': 1}, {'role': 'assistant', 'content': \"Ah, *salut*! That's a good try! *Salut* is more like a casual 'Hi' or 'Hey' among friends. It's useful, but *bonjour* and *bonsoir* are more polite. Think of *salut* like 'Hi' and *bonjour* like 'Hello'. Now, let's try something new. How do you think you would say 'one' in French? Notice the 'ou' spelling pattern in French. Pay attention to the article patterns.\", 'timestamp': '2025-09-01T10:52:33.802608', 'turn_id': 6, 'modality': 'text2text', 'level': 'A0', 'topic': 'Numbers 1-10', 'turn': 1, 'state': 'TEACHING', 'analysis_score': 50.0}, {'role': 'user', 'content': 'Sept, huit, neuf, dix', 'timestamp': '2025-09-01T10:52:37.811945', 'turn_id': 7, 'modality': 'text2text', 'level': 'A0', 'topic': 'Numbers 1-10', 'turn': 2}, {'role': 'assistant', 'content': \"Pas mal, but let's focus on the first few numbers first. You jumped ahead a bit! *Sept, huit, neuf, dix* are 7, 8, 9, and 10. Before we get there, let's start with one, two, and three. One in French is *un*. Can you notice how *un*? Pay attention to the article patterns.\", 'timestamp': '2025-09-01T10:52:42.538747', 'turn_id': 8, 'modality': 'text2text', 'level': 'A0', 'topic': 'Numbers 1-10', 'turn': 2, 'state': 'TEACHING', 'analysis_score': 50.0}], 'concept_tracker_state': {'concept_mastery': {'bonjour': 'INTRODUCED', 'bonsoir': 'INTRODUCED', 'un': 'INTRODUCED', 'sept': 'INTRODUCED', 'huit': 'INTRODUCED', 'neuf': 'INTRODUCED', 'dix': 'INTRODUCED'}, 'concept_attempts': {'bonjour': 1, 'bonsoir': 1, 'un': 1, 'sept': 1, 'huit': 1, 'neuf': 1, 'dix': 1}, 'concept_successes': {'bonjour': 0, 'bonsoir': 0, 'un': 0, 'sept': 0, 'huit': 0, 'neuf': 0, 'dix': 0}, 'error_patterns': {}, 'version': '1.0'}, 'turn_analytics': [{'student_response': 'Bonjour!', 'analysis': {'understanding_level': 50.0, 'error_analysis': 'Analysis focused on text2text capabilities', 'error_type': 'none', 'confidence_assessment': 'medium', 'recommended_action': 'continue', 'modality': 'text2text', 'modality_feedback': '', 'turn_id': 0, 'timestamp': '2025-09-01T10:52:15.804333'}, 'state': 'TEACHING', 'success': False, 'error_type': 'none', 'modality': 'text2text', 'turn_id': 0, 'timestamp': '2025-09-01T10:52:17.749763'}, {'student_response': 'Bonsoir?', 'analysis': {'understanding_level': 50.0, 'error_analysis': 'Analysis focused on text2text capabilities', 'error_type': 'none', 'confidence_assessment': 'medium', 'recommended_action': 'continue', 'modality': 'text2text', 'modality_feedback': '', 'turn_id': 1, 'timestamp': '2025-09-01T10:52:23.715964'}, 'state': 'TEACHING', 'success': False, 'error_type': 'none', 'modality': 'text2text', 'turn_id': 1, 'timestamp': '2025-09-01T10:52:25.422880'}, {'student_response': 'I think... salut?', 'analysis': {'understanding_level': 50.0, 'error_analysis': 'Analysis focused on text2text capabilities', 'error_type': 'none', 'confidence_assessment': 'medium', 'recommended_action': 'continue', 'modality': 'text2text', 'modality_feedback': '', 'turn_id': 2, 'timestamp': '2025-09-01T10:52:31.815074'}, 'state': 'TEACHING', 'success': False, 'error_type': 'none', 'modality': 'text2text', 'turn_id': 2, 'timestamp': '2025-09-01T10:52:33.802590'}, {'student_response': 'Sept, huit, neuf, dix', 'analysis': {'understanding_level': 50.0, 'error_analysis': 'Analysis focused on text2text capabilities', 'error_type': 'none', 'confidence_assessment': 'medium', 'recommended_action': 'continue', 'modality': 'text2text', 'modality_feedback': '', 'turn_id': 3, 'timestamp': '2025-09-01T10:52:40.528719'}, 'state': 'TEACHING', 'success': False, 'error_type': 'none', 'modality': 'text2text', 'turn_id': 3, 'timestamp': '2025-09-01T10:52:42.538728'}], 'profiling_history': [{'understanding_level': 50.0, 'error_analysis': 'Analysis focused on text2text capabilities', 'error_type': 'none', 'confidence_assessment': 'medium', 'recommended_action': 'continue', 'modality': 'text2text', 'modality_feedback': '', 'turn_id': 0, 'timestamp': '2025-09-01T10:52:15.804333'}, {'understanding_level': 50.0, 'error_analysis': 'Analysis focused on text2text capabilities', 'error_type': 'none', 'confidence_assessment': 'medium', 'recommended_action': 'continue', 'modality': 'text2text', 'modality_feedback': '', 'turn_id': 1, 'timestamp': '2025-09-01T10:52:23.715964'}, {'understanding_level': 50.0, 'error_analysis': 'Analysis focused on text2text capabilities', 'error_type': 'none', 'confidence_assessment': 'medium', 'recommended_action': 'continue', 'modality': 'text2text', 'modality_feedback': '', 'turn_id': 2, 'timestamp': '2025-09-01T10:52:31.815074'}, {'understanding_level': 50.0, 'error_analysis': 'Analysis focused on text2text capabilities', 'error_type': 'none', 'confidence_assessment': 'medium', 'recommended_action': 'continue', 'modality': 'text2text', 'modality_feedback': '', 'turn_id': 3, 'timestamp': '2025-09-01T10:52:40.528719'}], 'assessment_history': [], 'session_modality': 'text2text', 'modality_switches': [], 'modality_performance': {'text2text': {'total_turns': 4, 'successes': 0, 'error_types': []}}, 'timestamp': '2025-09-01T10:52:42.538773', 'version': '1.0'}, 'state_controller_state': {'current_state': 'TEACHING', 'state_history': [{'from': 'INITIALIZING', 'to': 'INTRODUCTION', 'reason': 'System initialization', 'timestamp': '2025-09-01T10:52:10.077081', 'transition_id': 1, 'metadata': {}}, {'from': 'INTRODUCTION', 'to': 'TEACHING', 'reason': 'Introduction completed', 'timestamp': '2025-09-01T10:52:10.085550', 'transition_id': 2, 'metadata': {}}], 'transition_count': 2, 'version': '1.0'}, 'self_correction_state': {'is_active': False, 'current_error': None, 'attempt_count': 0, 'socratic_history': [], 'version': '1.0'}, 'system_configuration': {'tutor_name': 'Jacque', 'environment': 'test', 'default_modality': 'text2text'}, 'session_metadata': {'timestamp': '2025-09-01T10:52:42.538782', 'total_session_time': 2, 'curriculum_progress': 11.11111111111111}, 'version': '1.0'}, 'analytics': {'concept_mastery': {'bonjour': 'INTRODUCED', 'bonsoir': 'INTRODUCED', 'un': 'INTRODUCED', 'sept': 'INTRODUCED', 'huit': 'INTRODUCED', 'neuf': 'INTRODUCED', 'dix': 'INTRODUCED'}, 'error_patterns': {}, 'state_transitions': [{'from': 'INITIALIZING', 'to': 'INTRODUCTION', 'reason': 'System initialization', 'timestamp': '2025-09-01T10:52:10.077081', 'transition_id': 1, 'metadata': {}}, {'from': 'INTRODUCTION', 'to': 'TEACHING', 'reason': 'Introduction completed', 'timestamp': '2025-09-01T10:52:10.085550', 'transition_id': 2, 'metadata': {}}], 'turn_analytics': [{'student_response': 'Bonjour!', 'analysis': {'understanding_level': 50.0, 'error_analysis': 'Analysis focused on text2text capabilities', 'error_type': 'none', 'confidence_assessment': 'medium', 'recommended_action': 'continue', 'modality': 'text2text', 'modality_feedback': '', 'turn_id': 0, 'timestamp': '2025-09-01T10:52:15.804333'}, 'state': 'TEACHING', 'success': False, 'error_type': 'none', 'modality': 'text2text', 'turn_id': 0, 'timestamp': '2025-09-01T10:52:17.749763'}, {'student_response': 'Bonsoir?', 'analysis': {'understanding_level': 50.0, 'error_analysis': 'Analysis focused on text2text capabilities', 'error_type': 'none', 'confidence_assessment': 'medium', 'recommended_action': 'continue', 'modality': 'text2text', 'modality_feedback': '', 'turn_id': 1, 'timestamp': '2025-09-01T10:52:23.715964'}, 'state': 'TEACHING', 'success': False, 'error_type': 'none', 'modality': 'text2text', 'turn_id': 1, 'timestamp': '2025-09-01T10:52:25.422880'}, {'student_response': 'I think... salut?', 'analysis': {'understanding_level': 50.0, 'error_analysis': 'Analysis focused on text2text capabilities', 'error_type': 'none', 'confidence_assessment': 'medium', 'recommended_action': 'continue', 'modality': 'text2text', 'modality_feedback': '', 'turn_id': 2, 'timestamp': '2025-09-01T10:52:31.815074'}, 'state': 'TEACHING', 'success': False, 'error_type': 'none', 'modality': 'text2text', 'turn_id': 2, 'timestamp': '2025-09-01T10:52:33.802590'}, {'student_response': 'Sept, huit, neuf, dix', 'analysis': {'understanding_level': 50.0, 'error_analysis': 'Analysis focused on text2text capabilities', 'error_type': 'none', 'confidence_assessment': 'medium', 'recommended_action': 'continue', 'modality': 'text2text', 'modality_feedback': '', 'turn_id': 3, 'timestamp': '2025-09-01T10:52:40.528719'}, 'state': 'TEACHING', 'success': False, 'error_type': 'none', 'modality': 'text2text', 'turn_id': 3, 'timestamp': '2025-09-01T10:52:42.538728'}], 'profiling_trends': [{'understanding_level': 50.0, 'error_analysis': 'Analysis focused on text2text capabilities', 'error_type': 'none', 'confidence_assessment': 'medium', 'recommended_action': 'continue', 'modality': 'text2text', 'modality_feedback': '', 'turn_id': 0, 'timestamp': '2025-09-01T10:52:15.804333'}, {'understanding_level': 50.0, 'error_analysis': 'Analysis focused on text2text capabilities', 'error_type': 'none', 'confidence_assessment': 'medium', 'recommended_action': 'continue', 'modality': 'text2text', 'modality_feedback': '', 'turn_id': 1, 'timestamp': '2025-09-01T10:52:23.715964'}, {'understanding_level': 50.0, 'error_analysis': 'Analysis focused on text2text capabilities', 'error_type': 'none', 'confidence_assessment': 'medium', 'recommended_action': 'continue', 'modality': 'text2text', 'modality_feedback': '', 'turn_id': 2, 'timestamp': '2025-09-01T10:52:31.815074'}, {'understanding_level': 50.0, 'error_analysis': 'Analysis focused on text2text capabilities', 'error_type': 'none', 'confidence_assessment': 'medium', 'recommended_action': 'continue', 'modality': 'text2text', 'modality_feedback': '', 'turn_id': 3, 'timestamp': '2025-09-01T10:52:40.528719'}]}, 'progression_analysis': {'total_progressions': 2, 'natural_progressions': 0, 'forced_progressions': 2, 'level_changes': 0, 'topic_changes': 2, 'avg_turns_per_topic': 2.0, 'min_turns_per_topic': 2, 'max_turns_per_topic': 2, 'progression_efficiency': 0.0, 'status': 'completed_successfully'}, 'progression_log': [{'turn': 2, 'type': 'forced', 'from_level': 'A0', 'from_topic': 'Basic Greetings', 'to_level': 'A0', 'to_topic': 'Numbers 1-10', 'turns_in_topic': 2, 'advancement_result': {'advancement_type': 'topic', 'from': 'Basic Greetings', 'to': 'Numbers 1-10', 'level': 'A0', 'forced': True}}, {'turn': 4, 'type': 'forced', 'from_level': 'A0', 'from_topic': 'Numbers 1-10', 'to_level': 'A0', 'to_topic': 'Yes and No', 'turns_in_topic': 2, 'advancement_result': {'advancement_type': 'topic', 'from': 'Numbers 1-10', 'to': 'Yes and No', 'level': 'A0', 'forced': True}}], 'simulation_mode': 'progression_testing'}\n",
            "\n",
            "✅ Architecture 2 test passed!\n"
          ]
        }
      ]
    },
    {
      "cell_type": "markdown",
      "source": [
        "# Architecture 3 Testing (Generative Pattern v28)"
      ],
      "metadata": {
        "id": "architecture_3_testing"
      }
    },
    {
      "cell_type": "code",
      "source": [
        "# Architecture 3 Test - Latest version from arch_3.ipynb (test-v4)\n",
        "print(\"\\n🏗️ Testing Architecture 3 (Generative Pattern v28)\")\n",
        "print(\"=\" * 50)\n",
        "\n",
        "try:\n",
        "    from src.language_tutor.language_tutor.architectures.core_tutor_engine_v3 import create_enhanced_tutor_system, InteractionModality\n",
        "\n",
        "    print(\"\\n--- Starting Test for Externally Configurable Core Tutor Engine Module ---\")\n",
        "\n",
        "    # Define Configuration Parameters\n",
        "    external_model_name = \"gemini-2.0-flash\"\n",
        "    student_id_for_test = \"test_ext_config_sim_001\"\n",
        "\n",
        "    print(f\"Test will pass Model Name: {external_model_name}\")\n",
        "    print(f\"Test will pass Student ID: {student_id_for_test}\")\n",
        "\n",
        "    # Test parameters\n",
        "    MAX_TEST_TURNS = 3  # Keep the test short\n",
        "    SIM_DELAY = 3\n",
        "    SIM_TURNS_PER_TOPIC_TEST = 2\n",
        "\n",
        "    print(\"Instantiating GenerativeTutorSystem with simulated student...\")\n",
        "\n",
        "    tutor_system = create_enhanced_tutor_system(\n",
        "        model_name=external_model_name,\n",
        "        tutor_name=\"Marie\",  # Demonstrate with specific tutor identity\n",
        "        interaction_modality=InteractionModality.TEXT_TO_TEXT,  # Demonstrate with specific modality\n",
        "        use_simulated_student=True,\n",
        "        use_mock_lm=False,  # Use real LM for demonstration\n",
        "        student_id=student_id_for_test,\n",
        "        sim_interaction_delay=SIM_DELAY,\n",
        "        num_sim_turns_per_topic=SIM_TURNS_PER_TOPIC_TEST,\n",
        "        max_overall_sim_turns=MAX_TEST_TURNS,\n",
        "        environment=\"test\"\n",
        "    )\n",
        "\n",
        "    print(\"GenerativeTutorSystem instantiated successfully.\")\n",
        "\n",
        "    # Run the built-in simulated session for testing\n",
        "    print(f\"\\nStarting a short simulated session test (max {MAX_TEST_TURNS} overall turns)...\")\n",
        "\n",
        "    tutor_system.run_simulated_session()\n",
        "    print(\"\\n✅ --- Ran Simulated Session Successfully ---\")\n",
        "    print(\"\\n--- Externally Configurable Core Tutor Engine Module Test Finished ---\")\n",
        "    print(\"\\n✅ Architecture 3 test passed!\")\n",
        "\n",
        "except Exception as e:\n",
        "    print(f\"❌ Architecture 3 test failed: {e}\")\n",
        "    import traceback\n",
        "    traceback.print_exc()\n",
        "    print(\"\\n--- Test Simulated Session Complete ---\")"
      ],
      "metadata": {
        "id": "test_architecture_3",
        "outputId": "6c815031-1843-482d-9348-59283ad98b52",
        "colab": {
          "base_uri": "https://localhost:8080/",
          "height": 1000
        }
      },
      "execution_count": 2,
      "outputs": [
        {
          "output_type": "stream",
          "name": "stdout",
          "text": [
            "\n",
            "🏗️ Testing Architecture 3 (Generative Pattern v28)\n",
            "==================================================\n",
            "📦 Language Tutor Core imported - call initialize() to load architectures\n",
            "🔄 Initializing dedicated DSPy thread...\n",
            "✅ DSPy dedicated thread initialized: 132750886041152\n",
            "✅ DSPy manager imported successfully\n",
            "📚 Enhanced Language Learning System ('facade') loaded\n"
          ]
        },
        {
          "output_type": "display_data",
          "data": {
            "text/plain": [
              "<IPython.core.display.HTML object>"
            ],
            "text/html": [
              "<div style='padding:5px; color:white; background-color:#228B22; border-radius:5px; margin:2px 0;'><b>[SUCCESS]</b> [2025-09-01 11:16:41] Enhanced Language Learning System ('system') loaded successfully </div>"
            ]
          },
          "metadata": {}
        },
        {
          "output_type": "stream",
          "name": "stdout",
          "text": [
            "🎯 Enhanced Language Learning System ('generative') successfully!\n",
            "🏗️  Language Tutor Architecture Status:\n",
            "   ✅ v1 Enhanced Multi-Agent: Available\n",
            "   ✅ v2 Multi-Agent: Available\n",
            "   ✅ v3 Generative: Available\n",
            "   🎯 Recommended: core_tutor_engine_v1\n",
            "\n",
            "--- Starting Test for Externally Configurable Core Tutor Engine Module ---\n",
            "Test will pass Model Name: gemini-2.0-flash\n",
            "Test will pass Student ID: test_ext_config_sim_001\n",
            "Instantiating GenerativeTutorSystem with simulated student...\n",
            "Preparing dspy.LM for Gemini model: gemini-2.0-flash in test environment.\n",
            "Submitting configuration to dspy_manager...\n",
            "🔧 Configuring DSPy with <dspy.clients.lm.LM object at 0x78bc8790e600> on thread 132750886041152\n",
            "✅ DSPy configured successfully on dedicated thread 132750886041152\n",
            "STATE TRANSITION [1]: INITIALIZING → INITIALIZING\n",
            "  Reason: Creating enhanced tutor system with tutor identity and interaction modality\n",
            "  Context: {'model_name': 'gemini-2.0-flash', 'environment': 'test', 'tutor_name': 'Marie', 'interaction_modality': 'text2text', 'use_mock': False, 'simulated_student': True, 'sim_interaction_delay': 3, 'num_sim_turns_per_topic': 2, 'max_overall_sim_turns': 3, 'curriculum_enrichments': {'cultural_contexts': 4, 'etymology_entries': 8, 'spiral_levels': 3}}\n",
            "Initializing Enhanced Generative Tutor System with tutor identity: Marie and modality: text2text\n",
            "STATE TRANSITION [2]: INITIALIZING → INITIALIZING\n",
            "  Reason: System initialization with tutor identity and interaction modality\n",
            "  Context: {'tutor_name': 'Marie', 'interaction_modality': 'text2text', 'curriculum_topics': 3, 'use_simulated_student': True}\n",
            "✅ Enhanced Stateless Tutor System Created\n",
            "   Tutor Identity: Marie\n",
            "   Interaction Modality: text2text\n",
            "   Model: gemini-2.0-flash in test environment (Live)\n",
            "   Cultural Contexts: 4 categories\n",
            "   Etymology Entries: 8 words\n",
            "   Curriculum Levels: 3 proficiency levels\n",
            "   State Logging: Enabled with 12 tracked states\n",
            "   Simulation Config: 3s delay, 2 turns/topic, 3 max turns\n",
            "   State Management: Stateless call-level architecture\n",
            "GenerativeTutorSystem instantiated successfully.\n",
            "\n",
            "Starting a short simulated session test (max 3 overall turns)...\n",
            "Starting enhanced simulated session with rich curriculum...\n",
            "STATE TRANSITION [3]: INITIALIZING → SESSION_STARTED\n",
            "  Reason: Starting session with topic: Basic Greetings & Politeness\n",
            "  Context: {'level': 'A0', 'topic': 'Basic Greetings & Politeness'}\n",
            "STATE TRANSITION [4]: SESSION_STARTED → CONCEPT_TEACHING\n",
            "  Reason: Analyzing student understanding for topic: Basic Greetings & Politeness\n",
            "  Context: {'understood': True, 'topic': 'Basic Greetings & Politeness', 'interaction_modality': 'text2text'}\n",
            "Initial State: CONCEPT_TEACHING\n",
            "STATE TRANSITION [5]: CONCEPT_TEACHING → STUDENT_PRACTICE\n",
            "  Reason: Processing student response\n",
            "  Context: {'topic': 'Basic Greetings & Politeness', 'response_length': 101, 'interaction_modality': 'text2text'}\n",
            "STATE TRANSITION [6]: STUDENT_PRACTICE → CONCEPT_TEACHING\n",
            "  Reason: Analyzing student understanding for topic: Basic Greetings & Politeness\n",
            "  Context: {'understood': True, 'topic': 'Basic Greetings & Politeness', 'interaction_modality': 'text2text'}\n",
            "Turn 1: Enrichments - Cultural(2) Etymology(2) Spiral(0)\n",
            "STATE TRANSITION [7]: CONCEPT_TEACHING → STUDENT_PRACTICE\n",
            "  Reason: Processing student response\n",
            "  Context: {'topic': 'Basic Greetings & Politeness', 'response_length': 213, 'interaction_modality': 'text2text'}\n",
            "STATE TRANSITION [8]: STUDENT_PRACTICE → CONCEPT_TEACHING\n",
            "  Reason: Analyzing student understanding for topic: Basic Greetings & Politeness\n",
            "  Context: {'understood': True, 'topic': 'Basic Greetings & Politeness', 'interaction_modality': 'text2text'}\n",
            "STATE TRANSITION [9]: CONCEPT_TEACHING → MASTERY_EVALUATION\n",
            "  Reason: Evaluating mastery for topic: Basic Greetings & Politeness\n",
            "  Context: {'consecutive_correct': 3, 'enrichment_engagement': True, 'cultural_contexts_used': 3, 'etymology_connections_made': 3}\n",
            "STATE TRANSITION [10]: MASTERY_EVALUATION → TOPIC_ADVANCEMENT\n",
            "  Reason: Topic 'Basic Greetings & Politeness' mastered\n",
            "  Context: {'level': 'A0', 'topic': 'Basic Greetings & Politeness', 'consecutive_correct': 3}\n",
            "STATE TRANSITION [11]: TOPIC_ADVANCEMENT → TOPIC_INTRODUCTION\n",
            "  Reason: Advancing to new topic: Numbers 0-10 & Basic Counting\n",
            "  Context: {'level': 'A0', 'new_topic': 'Numbers 0-10 & Basic Counting'}\n",
            "STATE TRANSITION [12]: TOPIC_INTRODUCTION → SESSION_STARTED\n",
            "  Reason: Starting session with topic: Numbers 0-10 & Basic Counting\n",
            "  Context: {'level': 'A0', 'topic': 'Numbers 0-10 & Basic Counting'}\n",
            "STATE TRANSITION [13]: SESSION_STARTED → CONCEPT_TEACHING\n",
            "  Reason: Analyzing student understanding for topic: Numbers 0-10 & Basic Counting\n",
            "  Context: {'understood': True, 'topic': 'Numbers 0-10 & Basic Counting', 'interaction_modality': 'text2text'}\n",
            "Turn 2: Enrichments - Cultural(4) Etymology(4) Spiral(0)\n",
            "\n",
            "✅ --- Ran Simulated Session Successfully ---\n",
            "\n",
            "--- Externally Configurable Core Tutor Engine Module Test Finished ---\n",
            "\n",
            "✅ Architecture 3 test passed!\n"
          ]
        }
      ]
    },
    {
      "cell_type": "markdown",
      "source": [
        "# Run All Tests\n",
        "\n",
        "Execute this cell to run all architecture tests sequentially."
      ],
      "metadata": {
        "id": "run_all_tests_header"
      }
    },
    {
      "cell_type": "code",
      "source": [
        "print(\"🧪 CONSOLIDATED ARCHITECTURE TESTING\")\n",
        "print(\"=\" * 60)\n",
        "print(\"Running all architecture tests sequentially...\\n\")\n",
        "\n",
        "# Run Architecture 1 Test\n",
        "print(\"🏗️ Testing Architecture 1 (Facade Pattern v47)\")\n",
        "print(\"=\" * 50)\n",
        "\n",
        "try:\n",
        "    from src.language_tutor.language_tutor.architectures.core_tutor_engine_v1 import create_learning_system\n",
        "\n",
        "    # Test the system directly\n",
        "    print(\"[about to start] Enhanced Language Learning System Test\")\n",
        "    print(\"=====================================\")\n",
        "\n",
        "    # Create system with auto-save\n",
        "    facade = create_learning_system({\n",
        "        \"mock_mode\": False,\n",
        "        \"tutor_name\": \"Marc\",\n",
        "        \"model_name\": \"gemini-2.0-flash\",\n",
        "        \"interaction_modality\": \"text2text\",\n",
        "        \"environment\": \"test\",\n",
        "    })\n",
        "\n",
        "    # Get accelerated testing parameters\n",
        "    num_turns = 4\n",
        "    proficiency = \"good\"\n",
        "    delay = 14\n",
        "    turns_per_topic = 2\n",
        "\n",
        "    # Run the accelerated test through the facade\n",
        "    facade.run_simulation(\n",
        "        num_turns=num_turns,\n",
        "        proficiency=proficiency,\n",
        "        delay=delay,\n",
        "        turns_per_topic=turns_per_topic\n",
        "    )\n",
        "\n",
        "    print(\"=====================================\")\n",
        "    print(\"[completed] Enhanced Language Learning System Test\")\n",
        "    print(\"✅ Architecture 1 test passed!\")\n",
        "\n",
        "except Exception as e:\n",
        "    print(f\"❌ Architecture 1 test failed: {e}\")\n",
        "    import traceback\n",
        "    traceback.print_exc()\n",
        "\n",
        "print(\"\\n\" + \"-\" * 60 + \"\\n\")\n",
        "\n",
        "# Run Architecture 2 Test\n",
        "print(\"🏗️ Testing Architecture 2 (System Pattern v41)\")\n",
        "print(\"=\" * 50)\n",
        "\n",
        "try:\n",
        "    from src.language_tutor.language_tutor.architectures.core_tutor_engine_v2 import create_complete_system\n",
        "\n",
        "    # Create an instance\n",
        "    tutor_system = create_complete_system(\n",
        "        model_name=\"gemini-2.0-flash\",\n",
        "        tutor_name=\"Jacque\",\n",
        "        mock_mode=False,\n",
        "        environment=\"test\",\n",
        "    )\n",
        "\n",
        "    # Get accelerated testing parameters\n",
        "    num_turns = 4\n",
        "    delay = 4\n",
        "    num_turns_per_topic = 2\n",
        "\n",
        "    # Run a quick automated test\n",
        "    test_results = tutor_system.run_deterministic_simulation(\n",
        "        num_turns=num_turns,\n",
        "        num_turns_per_topic=num_turns_per_topic,\n",
        "        delay=delay\n",
        "    )\n",
        "\n",
        "    # Print a summary of test results\n",
        "    print(\"\\nTEST SUMMARY:\")\n",
        "    print(f\"Completed exchanges: {test_results}\")\n",
        "\n",
        "    print(\"\\n✅ Architecture 2 test passed!\")\n",
        "\n",
        "except Exception as e:\n",
        "    print(f\"❌ Architecture 2 test failed: {e}\")\n",
        "    import traceback\n",
        "    traceback.print_exc()\n",
        "\n",
        "print(\"\\n\" + \"-\" * 60 + \"\\n\")\n",
        "\n",
        "# Run Architecture 3 Test\n",
        "print(\"🏗️ Testing Architecture 3 (Generative Pattern v28)\")\n",
        "print(\"=\" * 50)\n",
        "\n",
        "try:\n",
        "    from src.language_tutor.language_tutor.architectures.core_tutor_engine_v3 import create_enhanced_tutor_system, InteractionModality\n",
        "\n",
        "    print(\"\\n--- Starting Test for Externally Configurable Core Tutor Engine Module ---\")\n",
        "\n",
        "    # Define Configuration Parameters\n",
        "    external_model_name = \"gemini-2.0-flash\"\n",
        "    student_id_for_test = \"test_ext_config_sim_001\"\n",
        "\n",
        "    print(f\"Test will pass Model Name: {external_model_name}\")\n",
        "    print(f\"Test will pass Student ID: {student_id_for_test}\")\n",
        "\n",
        "    # Test parameters\n",
        "    MAX_TEST_TURNS = 3  # Keep the test short\n",
        "    SIM_DELAY = 3\n",
        "    SIM_TURNS_PER_TOPIC_TEST = 2\n",
        "\n",
        "    print(\"Instantiating GenerativeTutorSystem with simulated student...\")\n",
        "\n",
        "    tutor_system = create_enhanced_tutor_system(\n",
        "        model_name=external_model_name,\n",
        "        tutor_name=\"Marie\",  # Demonstrate with specific tutor identity\n",
        "        interaction_modality=InteractionModality.TEXT_TO_TEXT,  # Demonstrate with specific modality\n",
        "        use_simulated_student=True,\n",
        "        use_mock_lm=False,  # Use real LM for demonstration\n",
        "        student_id=student_id_for_test,\n",
        "        sim_interaction_delay=SIM_DELAY,\n",
        "        num_sim_turns_per_topic=SIM_TURNS_PER_TOPIC_TEST,\n",
        "        max_overall_sim_turns=MAX_TEST_TURNS,\n",
        "        environment=\"test\"\n",
        "    )\n",
        "\n",
        "    print(\"GenerativeTutorSystem instantiated successfully.\")\n",
        "\n",
        "    # Run the built-in simulated session for testing\n",
        "    print(f\"\\nStarting a short simulated session test (max {MAX_TEST_TURNS} overall turns)...\")\n",
        "\n",
        "    tutor_system.run_simulated_session()\n",
        "    print(\"\\n✅ --- Ran Simulated Session Successfully ---\")\n",
        "    print(\"\\n--- Externally Configurable Core Tutor Engine Module Test Finished ---\")\n",
        "    print(\"\\n✅ Architecture 3 test passed!\")\n",
        "\n",
        "except Exception as e:\n",
        "    print(f\"❌ Architecture 3 test failed: {e}\")\n",
        "    import traceback\n",
        "    traceback.print_exc()\n",
        "    print(\"\\n--- Test Simulated Session Complete ---\")\n",
        "\n",
        "print(\"\\n\" + \"=\" * 60)\n",
        "print(\"🎯 All architecture tests completed!\")\n",
        "print(\"=\" * 60)"
      ],
      "metadata": {
        "id": "run_all_tests",
        "outputId": "e7d2c806-9e43-4396-9234-5c4762b0b60b",
        "colab": {
          "base_uri": "https://localhost:8080/",
          "height": 1000
        }
      },
      "execution_count": 2,
      "outputs": [
        {
          "output_type": "stream",
          "name": "stdout",
          "text": [
            "🧪 CONSOLIDATED ARCHITECTURE TESTING\n",
            "============================================================\n",
            "Running all architecture tests sequentially...\n",
            "\n",
            "🏗️ Testing Architecture 1 (Facade Pattern v47)\n",
            "==================================================\n",
            "📦 Language Tutor Core imported - call initialize() to load architectures\n",
            "🔄 Initializing dedicated DSPy thread...\n",
            "✅ DSPy dedicated thread initialized: 132922900948544\n",
            "✅ DSPy manager imported successfully\n",
            "📚 Enhanced Language Learning System ('facade') loaded\n"
          ]
        },
        {
          "output_type": "display_data",
          "data": {
            "text/plain": [
              "<IPython.core.display.HTML object>"
            ],
            "text/html": [
              "<div style='padding:5px; color:white; background-color:#228B22; border-radius:5px; margin:2px 0;'><b>[SUCCESS]</b> [2025-09-01 11:27:14] Enhanced Language Learning System ('system') loaded successfully </div>"
            ]
          },
          "metadata": {}
        },
        {
          "output_type": "stream",
          "name": "stdout",
          "text": [
            "🎯 Enhanced Language Learning System ('generative') successfully!\n",
            "🏗️  Language Tutor Architecture Status:\n",
            "   ✅ v1 Enhanced Multi-Agent: Available\n",
            "   ✅ v2 Multi-Agent: Available\n",
            "   ✅ v3 Generative: Available\n",
            "   🎯 Recommended: core_tutor_engine_v1\n",
            "[about to start] Enhanced Language Learning System Test\n",
            "=====================================\n",
            "Created GeminiLM with model: gemini/gemini-2.0-flash/test\n",
            "Using gemini model: gemini-2.0-flash in test environment\n",
            "🔧 Configuring DSPy with <src.language_tutor.language_tutor.architectures.v1.dspy_modality.GeminiLM object at 0x78e4a476c680> on thread 132922900948544\n",
            "✅ DSPy configured successfully on dedicated thread 132922900948544\n",
            "DSPy configured successfully with gemini model: gemini-2.0-flash in test environment\n",
            "State transition: INITIALIZING → INTRODUCTION\n",
            "Complete Enhanced Language Learning System initialized with text2text modality in test environment\n",
            "Enhanced LanguageLearningFacade initialized in LIVE MODE (using gemini-2.0-flash) in test environment with text2text modality\n",
            "Starting simulated session with 4 turns, proficiency: good, delay: 14s in test environment\n",
            "Topic advancement: forced every 2 turns (testing mode)\n",
            "State transition: INTRODUCTION → TEACHING\n",
            "Tutor: Hello! Welcome to your French lesson. We'll start with some basic greetings. Let's begin with 'Bonjour.' You can think of it as 'Good day.' See if you can feel how 'bon' means good, and 'jour' means day. Bonjour!\n",
            "Student: Bonjour!\n",
            "Teaching agent modality updated to: text2text\n",
            "Evaluation agent modality updated to: text2text\n",
            "System state restored successfully\n",
            "Restored to: Level A0, Topic: Basic Greetings, State: TEACHING, Environment: test\n",
            "WARNING: Detected modality-inappropriate content for text2text: \\b(?:pronunciation|intonation|accent|vocal)\\b\n",
            "WARNING: Detected modality-inappropriate content for text2text: \\b(?:pronounc|speak|say|listen|hear|sound)\\b\n",
            "State transition: TEACHING → EVALUATING\n",
            "Invalid mastery score format. Using default 0.\n",
            "Evaluated mastery score: 0 for Basic Greetings at A0\n",
            "State transition: EVALUATING → TEACHING\n",
            "Tutor: Excellent! Now, let's add a little something. To say 'Good evening' or 'Good night,' we use 'Bonsoir.' Again, you have 'bon' for 'good.' Can you see what the difference is between 'jour' and 'soir'? Try to remember the pattern we just used. How would you apply it here?\n",
            "Student: Bonsoir!\n",
            "Teaching agent modality updated to: text2text\n",
            "Evaluation agent modality updated to: text2text\n",
            "System state restored successfully\n",
            "Restored to: Level A0, Topic: Basic Greetings, State: TEACHING, Environment: test\n",
            "WARNING: Detected modality-inappropriate content for text2text: \\b(?:pronunciation|intonation|accent|vocal)\\b\n",
            "WARNING: Detected modality-inappropriate content for text2text: \\b(?:pronounc|speak|say|listen|hear|sound)\\b\n",
            "State transition: TEACHING → EVALUATING\n",
            "Invalid mastery score format. Using default 0.\n",
            "Evaluated mastery score: 0 for Basic Greetings at A0\n",
            "State transition: EVALUATING → TEACHING\n",
            "Tutor: Parfait! You're getting the hang of it already. See how these words are built? 'Bon' gives you the 'good' part, and then you just add the time of day. Take a moment to think about how we say this in French.. So, 'jour' is day, and 'soir' is evening. Now, how do you think you would say 'Good afternoon'? Remember, it follows the same pattern.\n",
            "\n",
            "🚀 FORCED TOPIC ADVANCEMENT after 2 turns\n",
            "🔄 Advanced to next topic: Numbers 1-10 at A0\n",
            "State transition: TEACHING → INTRODUCTION\n",
            "Advanced to: \n",
            "            🧪 TESTING: Forced advancement from Basic Greetings to Numbers 1-10.\n",
            "            (In normal operation, this would require mastery demonstration)\n",
            "            \n",
            "\n",
            "Hello! Welcome to your French lesson. Today, we will begin with numbers 1 to 10. It's simpler than you might think! Let's start with one: *un*. Can you see how it's written? Now, what do you think *une* might be?\n",
            "Student: Bonjour?\n",
            "Teaching agent modality updated to: text2text\n",
            "Evaluation agent modality updated to: text2text\n",
            "System state restored successfully\n",
            "Restored to: Level A0, Topic: Numbers 1-10, State: INTRODUCTION, Environment: test\n",
            "WARNING: Detected modality-inappropriate content for text2text: \\b(?:pronunciation|intonation|accent|vocal)\\b\n",
            "WARNING: Detected modality-inappropriate content for text2text: \\b(?:pronounc|speak|say|listen|hear|sound)\\b\n",
            "State transition: INTRODUCTION → EVALUATING\n",
            "Evaluated mastery score: 0.1 for Numbers 1-10 at A0\n",
            "State transition: EVALUATING → TEACHING\n",
            "Tutor: Yes, 'Bonjour' is a greeting. It's like saying 'Hello' or 'Good day.' But now, let's try something new. We're going to explore numbers. Let's start with 'un'. Before answering, think about how these words connect together.. 'Un' means 'one'. But here's a little twist: it can be 'un' or 'une'. 'Un' is for masculine things, and 'une' is for feminine things. Don't worry too much about that now, just notice it. So, can you say 'un'?\n",
            "Student: Un\n",
            "Teaching agent modality updated to: text2text\n",
            "Evaluation agent modality updated to: text2text\n",
            "System state restored successfully\n",
            "Restored to: Level A0, Topic: Numbers 1-10, State: TEACHING, Environment: test\n",
            "WARNING: Detected modality-inappropriate content for text2text: \\b(?:pronunciation|intonation|accent|vocal)\\b\n",
            "State transition: TEACHING → EVALUATING\n",
            "Evaluated mastery score: 0.2 for Numbers 1-10 at A0\n",
            "State transition: EVALUATING → TEACHING\n",
            "Tutor: Très bien! Now, let's try 'deux'. Pause for a moment and consider what this phrase might mean in English.. 'Deux' means 'two'. Can you try saying 'deux'?\n",
            "\n",
            "🚀 FORCED TOPIC ADVANCEMENT after 2 turns\n",
            "🔄 Advanced to next topic: Yes and No at A0\n",
            "State transition: TEACHING → INTRODUCTION\n",
            "Advanced to: \n",
            "            🧪 TESTING: Forced advancement from Numbers 1-10 to Yes and No.\n",
            "            (In normal operation, this would require mastery demonstration)\n",
            "            \n",
            "\n",
            "Hello! Welcome to your French lesson. Today, we'll gently introduce 'yes' and 'no'. Are you ready to begin?\n",
            "Simulation completed after 4 turns.\n",
            "Learning summary: 3 concepts introduced, 0 concepts mastered\n",
            "=====================================\n",
            "[completed] Enhanced Language Learning System Test\n",
            "✅ Architecture 1 test passed!\n",
            "\n",
            "------------------------------------------------------------\n",
            "\n",
            "🏗️ Testing Architecture 2 (System Pattern v41)\n",
            "==================================================\n"
          ]
        },
        {
          "output_type": "display_data",
          "data": {
            "text/plain": [
              "<IPython.core.display.HTML object>"
            ],
            "text/html": [
              "<div style='padding:5px; color:white; background-color:#1E90FF; border-radius:5px; margin:2px 0;'><b>[INFO]</b> [2025-09-01 11:29:14] Creating complete enhanced language learning system with call-level state management</div>"
            ]
          },
          "metadata": {}
        },
        {
          "output_type": "display_data",
          "data": {
            "text/plain": [
              "<IPython.core.display.HTML object>"
            ],
            "text/html": [
              "<div style='padding:5px; color:white; background-color:#1E90FF; border-radius:5px; margin:2px 0;'><b>[INFO]</b> [2025-09-01 11:29:14] Creating gemini language model: gemini-2.0-flash in test</div>"
            ]
          },
          "metadata": {}
        },
        {
          "output_type": "display_data",
          "data": {
            "text/plain": [
              "<IPython.core.display.HTML object>"
            ],
            "text/html": [
              "<div style='padding:5px; color:white; background-color:#228B22; border-radius:5px; margin:2px 0;'><b>[SUCCESS]</b> [2025-09-01 11:29:14] Initialized GeminiLM with gemini/gemini-2.0-flash in test environment</div>"
            ]
          },
          "metadata": {}
        },
        {
          "output_type": "display_data",
          "data": {
            "text/plain": [
              "<IPython.core.display.HTML object>"
            ],
            "text/html": [
              "<div style='padding:5px; color:white; background-color:#228B22; border-radius:5px; margin:2px 0;'><b>[SUCCESS]</b> [2025-09-01 11:29:14] Using gemini model: gemini-2.0-flash in test</div>"
            ]
          },
          "metadata": {}
        },
        {
          "output_type": "stream",
          "name": "stdout",
          "text": [
            "🔧 Configuring DSPy with <src.language_tutor.language_tutor.architectures.v2.system_utils.GeminiLM object at 0x78e48678e8a0> on thread 132922900948544\n",
            "✅ DSPy configured successfully on dedicated thread 132922900948544\n"
          ]
        },
        {
          "output_type": "display_data",
          "data": {
            "text/plain": [
              "<IPython.core.display.HTML object>"
            ],
            "text/html": [
              "<div style='padding:5px; color:white; background-color:#2E8B57; border-radius:5px; margin:2px 0;'><b>[STATE_CHANGE]</b> [2025-09-01 11:29:14] State transition #1: INITIALIZING → INTRODUCTION (Reason: System initialization)</div>"
            ]
          },
          "metadata": {}
        },
        {
          "output_type": "display_data",
          "data": {
            "text/plain": [
              "<IPython.core.display.HTML object>"
            ],
            "text/html": [
              "<div style='padding:5px; color:white; background-color:#228B22; border-radius:5px; margin:2px 0;'><b>[SUCCESS]</b> [2025-09-01 11:29:14] Enhanced Language Learning System initialized with text2text modality in test</div>"
            ]
          },
          "metadata": {}
        },
        {
          "output_type": "display_data",
          "data": {
            "text/plain": [
              "<IPython.core.display.HTML object>"
            ],
            "text/html": [
              "<div style='padding:5px; color:white; background-color:#228B22; border-radius:5px; margin:2px 0;'><b>[SUCCESS]</b> [2025-09-01 11:29:14] Enhanced Language Learning Facade initialized in LIVE MODE (using gemini gemini-2.0-flash in test), Default modality: text2text</div>"
            ]
          },
          "metadata": {}
        },
        {
          "output_type": "display_data",
          "data": {
            "text/plain": [
              "<IPython.core.display.HTML object>"
            ],
            "text/html": [
              "<div style='padding:5px; color:white; background-color:#228B22; border-radius:5px; margin:2px 0;'><b>[SUCCESS]</b> [2025-09-01 11:29:14] System creation successful</div>"
            ]
          },
          "metadata": {}
        },
        {
          "output_type": "display_data",
          "data": {
            "text/plain": [
              "<IPython.core.display.HTML object>"
            ],
            "text/html": [
              "<div style='padding:5px; color:white; background-color:#32CD32; border-radius:5px; margin:2px 0;'><b>[ADVANCEMENT]</b> [2025-09-01 11:29:14] Starting PROGRESSION TESTING simulation: 2 turns per topic</div>"
            ]
          },
          "metadata": {}
        },
        {
          "output_type": "display_data",
          "data": {
            "text/plain": [
              "<IPython.core.display.HTML object>"
            ],
            "text/html": [
              "<div style='padding:5px; color:white; background-color:#1E90FF; border-radius:5px; margin:2px 0;'><b>[INFO]</b> [2025-09-01 11:29:14] Session started fresh</div>"
            ]
          },
          "metadata": {}
        },
        {
          "output_type": "display_data",
          "data": {
            "text/plain": [
              "<IPython.core.display.HTML object>"
            ],
            "text/html": [
              "<div style='padding:5px; color:white; background-color:#2E8B57; border-radius:5px; margin:2px 0;'><b>[STATE_CHANGE]</b> [2025-09-01 11:29:14] State transition #2: INTRODUCTION → TEACHING (Reason: Introduction completed)</div>"
            ]
          },
          "metadata": {}
        },
        {
          "output_type": "display_data",
          "data": {
            "text/plain": [
              "<IPython.core.display.HTML object>"
            ],
            "text/html": [
              "<div style='padding:10px; background-color:#f0f7fb; border-left:5px solid #3498db; margin-bottom:10px;'><b>🧑‍🏫 Tutor: </b>Bonjour! I'm Jacque, your French tutor. Today we'll be learning about Basic Greetings.\n",
              "\n",
              "Greetings are essential in French culture. I'll show you when and how to use different greetings appropriately, just like native speakers do.\n",
              "\n",
              "Let's start with a simple question: Think about how you greet people in English at different times of day. How do you think you would greet someone in French during the daytime?</div>"
            ]
          },
          "metadata": {}
        },
        {
          "output_type": "display_data",
          "data": {
            "text/plain": [
              "<IPython.core.display.HTML object>"
            ],
            "text/html": [
              "<div style='padding:5px; color:white; background-color:#32CD32; border-radius:5px; margin:2px 0;'><b>[ADVANCEMENT]</b> [2025-09-01 11:29:14] Starting position: A0 - Basic Greetings</div>"
            ]
          },
          "metadata": {}
        },
        {
          "output_type": "display_data",
          "data": {
            "text/plain": [
              "<IPython.core.display.HTML object>"
            ],
            "text/html": [
              "<div style='padding:10px; background-color:#f9f9f9; border-left:5px solid #7f8c8d; margin-bottom:10px;'><b>👤 Student: </b>Bonjour!</div>"
            ]
          },
          "metadata": {}
        },
        {
          "output_type": "display_data",
          "data": {
            "text/plain": [
              "<IPython.core.display.HTML object>"
            ],
            "text/html": [
              "<div style='padding:5px; color:white; background-color:#228B22; border-radius:5px; margin:2px 0;'><b>[SUCCESS]</b> [2025-09-01 11:29:18] Curriculum restored: A0, topic 0 (Basic Greetings), turn 0</div>"
            ]
          },
          "metadata": {}
        },
        {
          "output_type": "display_data",
          "data": {
            "text/plain": [
              "<IPython.core.display.HTML object>"
            ],
            "text/html": [
              "<div style='padding:5px; color:white; background-color:#228B22; border-radius:5px; margin:2px 0;'><b>[SUCCESS]</b> [2025-09-01 11:29:18] Concept tracker restored: 0 concepts</div>"
            ]
          },
          "metadata": {}
        },
        {
          "output_type": "display_data",
          "data": {
            "text/plain": [
              "<IPython.core.display.HTML object>"
            ],
            "text/html": [
              "<div style='padding:5px; color:white; background-color:#228B22; border-radius:5px; margin:2px 0;'><b>[SUCCESS]</b> [2025-09-01 11:29:18] Memory manager restored from 2025-09-01T11:29:14.393344</div>"
            ]
          },
          "metadata": {}
        },
        {
          "output_type": "display_data",
          "data": {
            "text/plain": [
              "<IPython.core.display.HTML object>"
            ],
            "text/html": [
              "<div style='padding:5px; color:white; background-color:#228B22; border-radius:5px; margin:2px 0;'><b>[SUCCESS]</b> [2025-09-01 11:29:18] State controller restored to TEACHING with 2 transitions</div>"
            ]
          },
          "metadata": {}
        },
        {
          "output_type": "display_data",
          "data": {
            "text/plain": [
              "<IPython.core.display.HTML object>"
            ],
            "text/html": [
              "<div style='padding:5px; color:white; background-color:#228B22; border-radius:5px; margin:2px 0;'><b>[SUCCESS]</b> [2025-09-01 11:29:18] System state restored from 2025-09-01T11:29:14.393369, curriculum progress: 0.0%</div>"
            ]
          },
          "metadata": {}
        },
        {
          "output_type": "display_data",
          "data": {
            "text/plain": [
              "<IPython.core.display.HTML object>"
            ],
            "text/html": [
              "<div style='padding:5px; color:white; background-color:#8A2BE2; border-radius:5px; margin:2px 0;'><b>[PROFILING]</b> [2025-09-01 11:29:20] Turn analysis (text2text): Understanding 50.0%, Error type: none, Action: continue</div>"
            ]
          },
          "metadata": {}
        },
        {
          "output_type": "display_data",
          "data": {
            "text/plain": [
              "<IPython.core.display.HTML object>"
            ],
            "text/html": [
              "<div style='padding:10px; background-color:#f0f7fb; border-left:5px solid #3498db; margin-bottom:10px;'><b>🧑‍🏫 Tutor: </b>Excellent! *Bonjour* is exactly how you greet someone during the daytime. You've already mastered your first French greeting. *Félicitations*! Now, let's think about the evening. In English, we say 'Good evening' or 'Good night.' How do you think you would say 'Good evening' in French? I'll give you a hint: it sounds quite similar to *bonjour*. Notice the 'ou' spelling pattern in French. Pay attention to the article patterns.</div>"
            ]
          },
          "metadata": {}
        },
        {
          "output_type": "display_data",
          "data": {
            "text/plain": [
              "<IPython.core.display.HTML object>"
            ],
            "text/html": [
              "<div style='padding:10px; background-color:#f9f9f9; border-left:5px solid #7f8c8d; margin-bottom:10px;'><b>👤 Student: </b>Bonsoir?</div>"
            ]
          },
          "metadata": {}
        },
        {
          "output_type": "display_data",
          "data": {
            "text/plain": [
              "<IPython.core.display.HTML object>"
            ],
            "text/html": [
              "<div style='padding:5px; color:white; background-color:#228B22; border-radius:5px; margin:2px 0;'><b>[SUCCESS]</b> [2025-09-01 11:29:26] Curriculum restored: A0, topic 0 (Basic Greetings), turn 1</div>"
            ]
          },
          "metadata": {}
        },
        {
          "output_type": "display_data",
          "data": {
            "text/plain": [
              "<IPython.core.display.HTML object>"
            ],
            "text/html": [
              "<div style='padding:5px; color:white; background-color:#228B22; border-radius:5px; margin:2px 0;'><b>[SUCCESS]</b> [2025-09-01 11:29:26] Concept tracker restored: 1 concepts</div>"
            ]
          },
          "metadata": {}
        },
        {
          "output_type": "display_data",
          "data": {
            "text/plain": [
              "<IPython.core.display.HTML object>"
            ],
            "text/html": [
              "<div style='padding:5px; color:white; background-color:#228B22; border-radius:5px; margin:2px 0;'><b>[SUCCESS]</b> [2025-09-01 11:29:26] Memory manager restored from 2025-09-01T11:29:22.007513</div>"
            ]
          },
          "metadata": {}
        },
        {
          "output_type": "display_data",
          "data": {
            "text/plain": [
              "<IPython.core.display.HTML object>"
            ],
            "text/html": [
              "<div style='padding:5px; color:white; background-color:#228B22; border-radius:5px; margin:2px 0;'><b>[SUCCESS]</b> [2025-09-01 11:29:26] State controller restored to TEACHING with 2 transitions</div>"
            ]
          },
          "metadata": {}
        },
        {
          "output_type": "display_data",
          "data": {
            "text/plain": [
              "<IPython.core.display.HTML object>"
            ],
            "text/html": [
              "<div style='padding:5px; color:white; background-color:#228B22; border-radius:5px; margin:2px 0;'><b>[SUCCESS]</b> [2025-09-01 11:29:26] System state restored from 2025-09-01T11:29:22.007538, curriculum progress: 0.0%</div>"
            ]
          },
          "metadata": {}
        },
        {
          "output_type": "display_data",
          "data": {
            "text/plain": [
              "<IPython.core.display.HTML object>"
            ],
            "text/html": [
              "<div style='padding:5px; color:white; background-color:#8A2BE2; border-radius:5px; margin:2px 0;'><b>[PROFILING]</b> [2025-09-01 11:29:27] Turn analysis (text2text): Understanding 50.0%, Error type: none, Action: continue</div>"
            ]
          },
          "metadata": {}
        },
        {
          "output_type": "display_data",
          "data": {
            "text/plain": [
              "<IPython.core.display.HTML object>"
            ],
            "text/html": [
              "<div style='padding:10px; background-color:#f0f7fb; border-left:5px solid #3498db; margin-bottom:10px;'><b>🧑‍🏫 Tutor: </b>Parfait! *Bonsoir* is exactly how you say 'Good evening' in French. You're doing wonderfully! Notice that *bonjour* is used during the day, and *bonsoir* is used in the evening. Now, can you think of a more casual way to say 'hello' or 'hi' in French, something you might say to a friend? It's a short word, and we haven't covered it yet. Notice the 'ou' spelling pattern in French.</div>"
            ]
          },
          "metadata": {}
        },
        {
          "output_type": "display_data",
          "data": {
            "text/plain": [
              "<IPython.core.display.HTML object>"
            ],
            "text/html": [
              "<div style='padding:5px; color:white; background-color:#1E90FF; border-radius:5px; margin:2px 0;'><b>[INFO]</b> [2025-09-01 11:29:29] Creating complete enhanced language learning system with call-level state management</div>"
            ]
          },
          "metadata": {}
        },
        {
          "output_type": "display_data",
          "data": {
            "text/plain": [
              "<IPython.core.display.HTML object>"
            ],
            "text/html": [
              "<div style='padding:5px; color:white; background-color:#1E90FF; border-radius:5px; margin:2px 0;'><b>[INFO]</b> [2025-09-01 11:29:29] Creating mock language model: mock-gemini-2.0-flash in test</div>"
            ]
          },
          "metadata": {}
        },
        {
          "output_type": "display_data",
          "data": {
            "text/plain": [
              "<IPython.core.display.HTML object>"
            ],
            "text/html": [
              "<div style='padding:5px; color:white; background-color:#FF8C00; border-radius:5px; margin:2px 0;'><b>[WARNING]</b> [2025-09-01 11:29:29] Created MockLM: mock/mock-gemini-2.0-flash in test - FOR TESTING ONLY</div>"
            ]
          },
          "metadata": {}
        },
        {
          "output_type": "display_data",
          "data": {
            "text/plain": [
              "<IPython.core.display.HTML object>"
            ],
            "text/html": [
              "<div style='padding:5px; color:white; background-color:#FF8C00; border-radius:5px; margin:2px 0;'><b>[WARNING]</b> [2025-09-01 11:29:29] Using MOCK LM for testing</div>"
            ]
          },
          "metadata": {}
        },
        {
          "output_type": "stream",
          "name": "stdout",
          "text": [
            "🔧 Configuring DSPy with <src.language_tutor.language_tutor.architectures.v2.system_utils.MockLM object at 0x78e485ba1af0> on thread 132922900948544\n",
            "✅ DSPy configured successfully on dedicated thread 132922900948544\n"
          ]
        },
        {
          "output_type": "display_data",
          "data": {
            "text/plain": [
              "<IPython.core.display.HTML object>"
            ],
            "text/html": [
              "<div style='padding:5px; color:white; background-color:#2E8B57; border-radius:5px; margin:2px 0;'><b>[STATE_CHANGE]</b> [2025-09-01 11:29:29] State transition #1: INITIALIZING → INTRODUCTION (Reason: System initialization)</div>"
            ]
          },
          "metadata": {}
        },
        {
          "output_type": "display_data",
          "data": {
            "text/plain": [
              "<IPython.core.display.HTML object>"
            ],
            "text/html": [
              "<div style='padding:5px; color:white; background-color:#228B22; border-radius:5px; margin:2px 0;'><b>[SUCCESS]</b> [2025-09-01 11:29:29] Enhanced Language Learning System initialized with text2text modality in test</div>"
            ]
          },
          "metadata": {}
        },
        {
          "output_type": "display_data",
          "data": {
            "text/plain": [
              "<IPython.core.display.HTML object>"
            ],
            "text/html": [
              "<div style='padding:5px; color:white; background-color:#228B22; border-radius:5px; margin:2px 0;'><b>[SUCCESS]</b> [2025-09-01 11:29:29] Enhanced Language Learning Facade initialized in MOCK MODE (no API costs), Default modality: text2text</div>"
            ]
          },
          "metadata": {}
        },
        {
          "output_type": "display_data",
          "data": {
            "text/plain": [
              "<IPython.core.display.HTML object>"
            ],
            "text/html": [
              "<div style='padding:5px; color:white; background-color:#228B22; border-radius:5px; margin:2px 0;'><b>[SUCCESS]</b> [2025-09-01 11:29:29] System creation successful</div>"
            ]
          },
          "metadata": {}
        },
        {
          "output_type": "display_data",
          "data": {
            "text/plain": [
              "<IPython.core.display.HTML object>"
            ],
            "text/html": [
              "<div style='padding:5px; color:white; background-color:#228B22; border-radius:5px; margin:2px 0;'><b>[SUCCESS]</b> [2025-09-01 11:29:29] Curriculum restored: A0, topic 0 (Basic Greetings), turn 2</div>"
            ]
          },
          "metadata": {}
        },
        {
          "output_type": "display_data",
          "data": {
            "text/plain": [
              "<IPython.core.display.HTML object>"
            ],
            "text/html": [
              "<div style='padding:5px; color:white; background-color:#228B22; border-radius:5px; margin:2px 0;'><b>[SUCCESS]</b> [2025-09-01 11:29:29] Concept tracker restored: 2 concepts</div>"
            ]
          },
          "metadata": {}
        },
        {
          "output_type": "display_data",
          "data": {
            "text/plain": [
              "<IPython.core.display.HTML object>"
            ],
            "text/html": [
              "<div style='padding:5px; color:white; background-color:#228B22; border-radius:5px; margin:2px 0;'><b>[SUCCESS]</b> [2025-09-01 11:29:29] Memory manager restored from 2025-09-01T11:29:29.776157</div>"
            ]
          },
          "metadata": {}
        },
        {
          "output_type": "display_data",
          "data": {
            "text/plain": [
              "<IPython.core.display.HTML object>"
            ],
            "text/html": [
              "<div style='padding:5px; color:white; background-color:#228B22; border-radius:5px; margin:2px 0;'><b>[SUCCESS]</b> [2025-09-01 11:29:29] State controller restored to TEACHING with 2 transitions</div>"
            ]
          },
          "metadata": {}
        },
        {
          "output_type": "display_data",
          "data": {
            "text/plain": [
              "<IPython.core.display.HTML object>"
            ],
            "text/html": [
              "<div style='padding:5px; color:white; background-color:#228B22; border-radius:5px; margin:2px 0;'><b>[SUCCESS]</b> [2025-09-01 11:29:29] System state restored from 2025-09-01T11:29:29.776170, curriculum progress: 0.0%</div>"
            ]
          },
          "metadata": {}
        },
        {
          "output_type": "display_data",
          "data": {
            "text/plain": [
              "<IPython.core.display.HTML object>"
            ],
            "text/html": [
              "<div style='padding:5px; color:white; background-color:#32CD32; border-radius:5px; margin:2px 0;'><b>[ADVANCEMENT]</b> [2025-09-01 11:29:29] FORCED topic advancement: Basic Greetings → Numbers 1-10</div>"
            ]
          },
          "metadata": {}
        },
        {
          "output_type": "display_data",
          "data": {
            "text/plain": [
              "<IPython.core.display.HTML object>"
            ],
            "text/html": [
              "<div style='padding:5px; color:white; background-color:#32CD32; border-radius:5px; margin:2px 0;'><b>[ADVANCEMENT]</b> [2025-09-01 11:29:29] FORCED progression: A0:Basic Greetings → A0:Numbers 1-10 (forced after 2 turns)</div>"
            ]
          },
          "metadata": {}
        },
        {
          "output_type": "display_data",
          "data": {
            "text/plain": [
              "<IPython.core.display.HTML object>"
            ],
            "text/html": [
              "<div style='padding:10px; background-color:#f0f7fb; border-left:5px solid #3498db; margin-bottom:10px;'><b>🧑‍🏫 Tutor: </b>Excellent progress! Let's move on to Numbers 1-10. This builds beautifully on what you already know.</div>"
            ]
          },
          "metadata": {}
        },
        {
          "output_type": "display_data",
          "data": {
            "text/plain": [
              "<IPython.core.display.HTML object>"
            ],
            "text/html": [
              "<div style='padding:10px; background-color:#f9f9f9; border-left:5px solid #7f8c8d; margin-bottom:10px;'><b>👤 Student: </b>I think... salut?</div>"
            ]
          },
          "metadata": {}
        },
        {
          "output_type": "display_data",
          "data": {
            "text/plain": [
              "<IPython.core.display.HTML object>"
            ],
            "text/html": [
              "<div style='padding:5px; color:white; background-color:#228B22; border-radius:5px; margin:2px 0;'><b>[SUCCESS]</b> [2025-09-01 11:29:33] Curriculum restored: A0, topic 1 (Numbers 1-10), turn 0</div>"
            ]
          },
          "metadata": {}
        },
        {
          "output_type": "display_data",
          "data": {
            "text/plain": [
              "<IPython.core.display.HTML object>"
            ],
            "text/html": [
              "<div style='padding:5px; color:white; background-color:#228B22; border-radius:5px; margin:2px 0;'><b>[SUCCESS]</b> [2025-09-01 11:29:33] Concept tracker restored: 2 concepts</div>"
            ]
          },
          "metadata": {}
        },
        {
          "output_type": "display_data",
          "data": {
            "text/plain": [
              "<IPython.core.display.HTML object>"
            ],
            "text/html": [
              "<div style='padding:5px; color:white; background-color:#228B22; border-radius:5px; margin:2px 0;'><b>[SUCCESS]</b> [2025-09-01 11:29:33] Memory manager restored from 2025-09-01T11:29:29.776157</div>"
            ]
          },
          "metadata": {}
        },
        {
          "output_type": "display_data",
          "data": {
            "text/plain": [
              "<IPython.core.display.HTML object>"
            ],
            "text/html": [
              "<div style='padding:5px; color:white; background-color:#228B22; border-radius:5px; margin:2px 0;'><b>[SUCCESS]</b> [2025-09-01 11:29:33] State controller restored to TEACHING with 2 transitions</div>"
            ]
          },
          "metadata": {}
        },
        {
          "output_type": "display_data",
          "data": {
            "text/plain": [
              "<IPython.core.display.HTML object>"
            ],
            "text/html": [
              "<div style='padding:5px; color:white; background-color:#228B22; border-radius:5px; margin:2px 0;'><b>[SUCCESS]</b> [2025-09-01 11:29:33] System state restored from 2025-09-01T11:29:29.776170, curriculum progress: 0.0%</div>"
            ]
          },
          "metadata": {}
        },
        {
          "output_type": "display_data",
          "data": {
            "text/plain": [
              "<IPython.core.display.HTML object>"
            ],
            "text/html": [
              "<div style='padding:5px; color:white; background-color:#8A2BE2; border-radius:5px; margin:2px 0;'><b>[PROFILING]</b> [2025-09-01 11:29:35] Turn analysis (text2text): Understanding 50.0%, Error type: none, Action: continue</div>"
            ]
          },
          "metadata": {}
        },
        {
          "output_type": "display_data",
          "data": {
            "text/plain": [
              "<IPython.core.display.HTML object>"
            ],
            "text/html": [
              "<div style='padding:10px; background-color:#f0f7fb; border-left:5px solid #3498db; margin-bottom:10px;'><b>🧑‍🏫 Tutor: </b>Absolument! *Salut* is the perfect way to say 'hi' or 'hello' in a casual setting. You're picking this up so quickly! Now, let's move on to numbers. The first number in French is *un*. Can you spell *un* for me? Pay attention to the article patterns.</div>"
            ]
          },
          "metadata": {}
        },
        {
          "output_type": "display_data",
          "data": {
            "text/plain": [
              "<IPython.core.display.HTML object>"
            ],
            "text/html": [
              "<div style='padding:10px; background-color:#f9f9f9; border-left:5px solid #7f8c8d; margin-bottom:10px;'><b>👤 Student: </b>Sept, huit, neuf, dix</div>"
            ]
          },
          "metadata": {}
        },
        {
          "output_type": "display_data",
          "data": {
            "text/plain": [
              "<IPython.core.display.HTML object>"
            ],
            "text/html": [
              "<div style='padding:5px; color:white; background-color:#228B22; border-radius:5px; margin:2px 0;'><b>[SUCCESS]</b> [2025-09-01 11:29:41] Curriculum restored: A0, topic 1 (Numbers 1-10), turn 1</div>"
            ]
          },
          "metadata": {}
        },
        {
          "output_type": "display_data",
          "data": {
            "text/plain": [
              "<IPython.core.display.HTML object>"
            ],
            "text/html": [
              "<div style='padding:5px; color:white; background-color:#228B22; border-radius:5px; margin:2px 0;'><b>[SUCCESS]</b> [2025-09-01 11:29:41] Concept tracker restored: 3 concepts</div>"
            ]
          },
          "metadata": {}
        },
        {
          "output_type": "display_data",
          "data": {
            "text/plain": [
              "<IPython.core.display.HTML object>"
            ],
            "text/html": [
              "<div style='padding:5px; color:white; background-color:#228B22; border-radius:5px; margin:2px 0;'><b>[SUCCESS]</b> [2025-09-01 11:29:41] Memory manager restored from 2025-09-01T11:29:37.957439</div>"
            ]
          },
          "metadata": {}
        },
        {
          "output_type": "display_data",
          "data": {
            "text/plain": [
              "<IPython.core.display.HTML object>"
            ],
            "text/html": [
              "<div style='padding:5px; color:white; background-color:#228B22; border-radius:5px; margin:2px 0;'><b>[SUCCESS]</b> [2025-09-01 11:29:41] State controller restored to TEACHING with 2 transitions</div>"
            ]
          },
          "metadata": {}
        },
        {
          "output_type": "display_data",
          "data": {
            "text/plain": [
              "<IPython.core.display.HTML object>"
            ],
            "text/html": [
              "<div style='padding:5px; color:white; background-color:#228B22; border-radius:5px; margin:2px 0;'><b>[SUCCESS]</b> [2025-09-01 11:29:41] System state restored from 2025-09-01T11:29:37.957448, curriculum progress: 11.1%</div>"
            ]
          },
          "metadata": {}
        },
        {
          "output_type": "display_data",
          "data": {
            "text/plain": [
              "<IPython.core.display.HTML object>"
            ],
            "text/html": [
              "<div style='padding:5px; color:white; background-color:#8A2BE2; border-radius:5px; margin:2px 0;'><b>[PROFILING]</b> [2025-09-01 11:29:44] Turn analysis (text2text): Understanding 50.0%, Error type: none, Action: continue</div>"
            ]
          },
          "metadata": {}
        },
        {
          "output_type": "display_data",
          "data": {
            "text/plain": [
              "<IPython.core.display.HTML object>"
            ],
            "text/html": [
              "<div style='padding:10px; background-color:#f0f7fb; border-left:5px solid #3498db; margin-bottom:10px;'><b>🧑‍🏫 Tutor: </b>Très bien! You've said *sept, huit, neuf, dix*, which are indeed numbers we're learning. However, I asked you to spell *un*, which means 'one'. Let's focus on that for a moment. *Un* is spelled 'u-n'. Can you try spelling it now? We'll come back to the other numbers in a bit. Remember, *un* is a very important little word! Pay attention to the article patterns.</div>"
            ]
          },
          "metadata": {}
        },
        {
          "output_type": "display_data",
          "data": {
            "text/plain": [
              "<IPython.core.display.HTML object>"
            ],
            "text/html": [
              "<div style='padding:5px; color:white; background-color:#1E90FF; border-radius:5px; margin:2px 0;'><b>[INFO]</b> [2025-09-01 11:29:47] Creating complete enhanced language learning system with call-level state management</div>"
            ]
          },
          "metadata": {}
        },
        {
          "output_type": "display_data",
          "data": {
            "text/plain": [
              "<IPython.core.display.HTML object>"
            ],
            "text/html": [
              "<div style='padding:5px; color:white; background-color:#1E90FF; border-radius:5px; margin:2px 0;'><b>[INFO]</b> [2025-09-01 11:29:47] Creating mock language model: mock-gemini-2.0-flash in test</div>"
            ]
          },
          "metadata": {}
        },
        {
          "output_type": "display_data",
          "data": {
            "text/plain": [
              "<IPython.core.display.HTML object>"
            ],
            "text/html": [
              "<div style='padding:5px; color:white; background-color:#FF8C00; border-radius:5px; margin:2px 0;'><b>[WARNING]</b> [2025-09-01 11:29:47] Created MockLM: mock/mock-gemini-2.0-flash in test - FOR TESTING ONLY</div>"
            ]
          },
          "metadata": {}
        },
        {
          "output_type": "display_data",
          "data": {
            "text/plain": [
              "<IPython.core.display.HTML object>"
            ],
            "text/html": [
              "<div style='padding:5px; color:white; background-color:#FF8C00; border-radius:5px; margin:2px 0;'><b>[WARNING]</b> [2025-09-01 11:29:47] Using MOCK LM for testing</div>"
            ]
          },
          "metadata": {}
        },
        {
          "output_type": "stream",
          "name": "stdout",
          "text": [
            "🔧 Configuring DSPy with <src.language_tutor.language_tutor.architectures.v2.system_utils.MockLM object at 0x78e4859d2630> on thread 132922900948544\n",
            "✅ DSPy configured successfully on dedicated thread 132922900948544\n"
          ]
        },
        {
          "output_type": "display_data",
          "data": {
            "text/plain": [
              "<IPython.core.display.HTML object>"
            ],
            "text/html": [
              "<div style='padding:5px; color:white; background-color:#2E8B57; border-radius:5px; margin:2px 0;'><b>[STATE_CHANGE]</b> [2025-09-01 11:29:47] State transition #1: INITIALIZING → INTRODUCTION (Reason: System initialization)</div>"
            ]
          },
          "metadata": {}
        },
        {
          "output_type": "display_data",
          "data": {
            "text/plain": [
              "<IPython.core.display.HTML object>"
            ],
            "text/html": [
              "<div style='padding:5px; color:white; background-color:#228B22; border-radius:5px; margin:2px 0;'><b>[SUCCESS]</b> [2025-09-01 11:29:47] Enhanced Language Learning System initialized with text2text modality in test</div>"
            ]
          },
          "metadata": {}
        },
        {
          "output_type": "display_data",
          "data": {
            "text/plain": [
              "<IPython.core.display.HTML object>"
            ],
            "text/html": [
              "<div style='padding:5px; color:white; background-color:#228B22; border-radius:5px; margin:2px 0;'><b>[SUCCESS]</b> [2025-09-01 11:29:47] Enhanced Language Learning Facade initialized in MOCK MODE (no API costs), Default modality: text2text</div>"
            ]
          },
          "metadata": {}
        },
        {
          "output_type": "display_data",
          "data": {
            "text/plain": [
              "<IPython.core.display.HTML object>"
            ],
            "text/html": [
              "<div style='padding:5px; color:white; background-color:#228B22; border-radius:5px; margin:2px 0;'><b>[SUCCESS]</b> [2025-09-01 11:29:47] System creation successful</div>"
            ]
          },
          "metadata": {}
        },
        {
          "output_type": "display_data",
          "data": {
            "text/plain": [
              "<IPython.core.display.HTML object>"
            ],
            "text/html": [
              "<div style='padding:5px; color:white; background-color:#228B22; border-radius:5px; margin:2px 0;'><b>[SUCCESS]</b> [2025-09-01 11:29:47] Curriculum restored: A0, topic 1 (Numbers 1-10), turn 2</div>"
            ]
          },
          "metadata": {}
        },
        {
          "output_type": "display_data",
          "data": {
            "text/plain": [
              "<IPython.core.display.HTML object>"
            ],
            "text/html": [
              "<div style='padding:5px; color:white; background-color:#228B22; border-radius:5px; margin:2px 0;'><b>[SUCCESS]</b> [2025-09-01 11:29:47] Concept tracker restored: 7 concepts</div>"
            ]
          },
          "metadata": {}
        },
        {
          "output_type": "display_data",
          "data": {
            "text/plain": [
              "<IPython.core.display.HTML object>"
            ],
            "text/html": [
              "<div style='padding:5px; color:white; background-color:#228B22; border-radius:5px; margin:2px 0;'><b>[SUCCESS]</b> [2025-09-01 11:29:47] Memory manager restored from 2025-09-01T11:29:47.157072</div>"
            ]
          },
          "metadata": {}
        },
        {
          "output_type": "display_data",
          "data": {
            "text/plain": [
              "<IPython.core.display.HTML object>"
            ],
            "text/html": [
              "<div style='padding:5px; color:white; background-color:#228B22; border-radius:5px; margin:2px 0;'><b>[SUCCESS]</b> [2025-09-01 11:29:47] State controller restored to TEACHING with 2 transitions</div>"
            ]
          },
          "metadata": {}
        },
        {
          "output_type": "display_data",
          "data": {
            "text/plain": [
              "<IPython.core.display.HTML object>"
            ],
            "text/html": [
              "<div style='padding:5px; color:white; background-color:#228B22; border-radius:5px; margin:2px 0;'><b>[SUCCESS]</b> [2025-09-01 11:29:47] System state restored from 2025-09-01T11:29:47.157085, curriculum progress: 11.1%</div>"
            ]
          },
          "metadata": {}
        },
        {
          "output_type": "display_data",
          "data": {
            "text/plain": [
              "<IPython.core.display.HTML object>"
            ],
            "text/html": [
              "<div style='padding:5px; color:white; background-color:#32CD32; border-radius:5px; margin:2px 0;'><b>[ADVANCEMENT]</b> [2025-09-01 11:29:47] FORCED topic advancement: Numbers 1-10 → Yes and No</div>"
            ]
          },
          "metadata": {}
        },
        {
          "output_type": "display_data",
          "data": {
            "text/plain": [
              "<IPython.core.display.HTML object>"
            ],
            "text/html": [
              "<div style='padding:5px; color:white; background-color:#32CD32; border-radius:5px; margin:2px 0;'><b>[ADVANCEMENT]</b> [2025-09-01 11:29:47] FORCED progression: A0:Numbers 1-10 → A0:Yes and No (forced after 2 turns)</div>"
            ]
          },
          "metadata": {}
        },
        {
          "output_type": "display_data",
          "data": {
            "text/plain": [
              "<IPython.core.display.HTML object>"
            ],
            "text/html": [
              "<div style='padding:10px; background-color:#f0f7fb; border-left:5px solid #3498db; margin-bottom:10px;'><b>🧑‍🏫 Tutor: </b>Excellent progress! Let's move on to Yes and No. This builds beautifully on what you already know.</div>"
            ]
          },
          "metadata": {}
        },
        {
          "output_type": "display_data",
          "data": {
            "text/plain": [
              "<IPython.core.display.HTML object>"
            ],
            "text/html": [
              "<div style='padding:5px; color:white; background-color:#1E90FF; border-radius:5px; margin:2px 0;'><b>[INFO]</b> [2025-09-01 11:29:47] Simulation completed: reached 4 turns</div>"
            ]
          },
          "metadata": {}
        },
        {
          "output_type": "display_data",
          "data": {
            "text/plain": [
              "<IPython.core.display.HTML object>"
            ],
            "text/html": [
              "<div style='padding:5px; color:white; background-color:#228B22; border-radius:5px; margin:2px 0;'><b>[SUCCESS]</b> [2025-09-01 11:29:47] Simulation completed. Total turns: 4</div>"
            ]
          },
          "metadata": {}
        },
        {
          "output_type": "stream",
          "name": "stdout",
          "text": [
            "\n",
            "============================================================\n",
            "📊 PROGRESSION TESTING ANALYSIS\n",
            "============================================================\n",
            "📈 PROGRESSION STATISTICS:\n",
            "   • Total Progressions: 2\n",
            "   • Natural Progressions: 0\n",
            "   • Forced Progressions: 2\n",
            "   • Level Changes: 0\n",
            "   • Topic Changes: 2\n",
            "\n",
            "⏱️  TIMING ANALYSIS:\n",
            "   • Average Turns per Topic: 2.0\n",
            "   • Fastest Topic Completion: 2 turns\n",
            "   • Slowest Topic Completion: 2 turns\n",
            "   • Progression Efficiency: 0.0%\n",
            "\n",
            "🔧 RESULT: Forced progression testing completed successfully\n",
            "\n",
            "TEST SUMMARY:\n",
            "Completed exchanges: {'completed': True, 'total_turns': 4, 'final_state': {'curriculum_state': {'current_level': 'A0', 'current_topic_index': 2, 'turn_count': 0, 'current_topic': 'Yes and No'}, 'memory_state': {'session_id': '3ba06a4c-48af-4caa-9cbe-e79318042ad5', 'conversation_history': [{'role': 'assistant', 'content': \"Bonjour! I'm Jacque, your French tutor. Today we'll be learning about Basic Greetings.\\n\\nGreetings are essential in French culture. I'll show you when and how to use different greetings appropriately, just like native speakers do.\\n\\nLet's start with a simple question: Think about how you greet people in English at different times of day. How do you think you would greet someone in French during the daytime?\", 'timestamp': '2025-09-01T11:29:14.391927', 'turn_id': 0, 'modality': 'text2text', 'level': 'A0', 'topic': 'Basic Greetings', 'state': 'INTRODUCTION', 'is_introduction': True}, {'role': 'user', 'content': 'Bonjour!', 'timestamp': '2025-09-01T11:29:18.404920', 'turn_id': 1, 'modality': 'text2text', 'level': 'A0', 'topic': 'Basic Greetings', 'turn': 1}, {'role': 'assistant', 'content': \"Excellent! *Bonjour* is exactly how you greet someone during the daytime. You've already mastered your first French greeting. *Félicitations*! Now, let's think about the evening. In English, we say 'Good evening' or 'Good night.' How do you think you would say 'Good evening' in French? I'll give you a hint: it sounds quite similar to *bonjour*. Notice the 'ou' spelling pattern in French. Pay attention to the article patterns.\", 'timestamp': '2025-09-01T11:29:22.007489', 'turn_id': 2, 'modality': 'text2text', 'level': 'A0', 'topic': 'Basic Greetings', 'turn': 1, 'state': 'TEACHING', 'analysis_score': 50.0}, {'role': 'user', 'content': 'Bonsoir?', 'timestamp': '2025-09-01T11:29:26.018261', 'turn_id': 3, 'modality': 'text2text', 'level': 'A0', 'topic': 'Basic Greetings', 'turn': 2}, {'role': 'assistant', 'content': \"Parfait! *Bonsoir* is exactly how you say 'Good evening' in French. You're doing wonderfully! Notice that *bonjour* is used during the day, and *bonsoir* is used in the evening. Now, can you think of a more casual way to say 'hello' or 'hi' in French, something you might say to a friend? It's a short word, and we haven't covered it yet. Notice the 'ou' spelling pattern in French.\", 'timestamp': '2025-09-01T11:29:29.776123', 'turn_id': 4, 'modality': 'text2text', 'level': 'A0', 'topic': 'Basic Greetings', 'turn': 2, 'state': 'TEACHING', 'analysis_score': 50.0}, {'role': 'user', 'content': 'I think... salut?', 'timestamp': '2025-09-01T11:29:33.821859', 'turn_id': 5, 'modality': 'text2text', 'level': 'A0', 'topic': 'Numbers 1-10', 'turn': 1}, {'role': 'assistant', 'content': \"Absolument! *Salut* is the perfect way to say 'hi' or 'hello' in a casual setting. You're picking this up so quickly! Now, let's move on to numbers. The first number in French is *un*. Can you spell *un* for me? Pay attention to the article patterns.\", 'timestamp': '2025-09-01T11:29:37.957414', 'turn_id': 6, 'modality': 'text2text', 'level': 'A0', 'topic': 'Numbers 1-10', 'turn': 1, 'state': 'TEACHING', 'analysis_score': 50.0}, {'role': 'user', 'content': 'Sept, huit, neuf, dix', 'timestamp': '2025-09-01T11:29:41.966908', 'turn_id': 7, 'modality': 'text2text', 'level': 'A0', 'topic': 'Numbers 1-10', 'turn': 2}, {'role': 'assistant', 'content': \"Très bien! You've said *sept, huit, neuf, dix*, which are indeed numbers we're learning. However, I asked you to spell *un*, which means 'one'. Let's focus on that for a moment. *Un* is spelled 'u-n'. Can you try spelling it now? We'll come back to the other numbers in a bit. Remember, *un* is a very important little word! Pay attention to the article patterns.\", 'timestamp': '2025-09-01T11:29:47.157039', 'turn_id': 8, 'modality': 'text2text', 'level': 'A0', 'topic': 'Numbers 1-10', 'turn': 2, 'state': 'TEACHING', 'analysis_score': 50.0}], 'concept_tracker_state': {'concept_mastery': {'bonjour': 'INTRODUCED', 'bonsoir': 'INTRODUCED', 'un': 'INTRODUCED', 'sept': 'INTRODUCED', 'huit': 'INTRODUCED', 'neuf': 'INTRODUCED', 'dix': 'INTRODUCED'}, 'concept_attempts': {'bonjour': 1, 'bonsoir': 1, 'un': 1, 'sept': 1, 'huit': 1, 'neuf': 1, 'dix': 1}, 'concept_successes': {'bonjour': 0, 'bonsoir': 0, 'un': 0, 'sept': 0, 'huit': 0, 'neuf': 0, 'dix': 0}, 'error_patterns': {}, 'version': '1.0'}, 'turn_analytics': [{'student_response': 'Bonjour!', 'analysis': {'understanding_level': 50.0, 'error_analysis': 'Analysis focused on text2text capabilities', 'error_type': 'none', 'confidence_assessment': 'medium', 'recommended_action': 'continue', 'modality': 'text2text', 'modality_feedback': '', 'turn_id': 0, 'timestamp': '2025-09-01T11:29:20.142512'}, 'state': 'TEACHING', 'success': False, 'error_type': 'none', 'modality': 'text2text', 'turn_id': 0, 'timestamp': '2025-09-01T11:29:22.007470'}, {'student_response': 'Bonsoir?', 'analysis': {'understanding_level': 50.0, 'error_analysis': 'Analysis focused on text2text capabilities', 'error_type': 'none', 'confidence_assessment': 'medium', 'recommended_action': 'continue', 'modality': 'text2text', 'modality_feedback': '', 'turn_id': 1, 'timestamp': '2025-09-01T11:29:27.700854'}, 'state': 'TEACHING', 'success': False, 'error_type': 'none', 'modality': 'text2text', 'turn_id': 1, 'timestamp': '2025-09-01T11:29:29.776097'}, {'student_response': 'I think... salut?', 'analysis': {'understanding_level': 50.0, 'error_analysis': 'Analysis focused on text2text capabilities', 'error_type': 'none', 'confidence_assessment': 'medium', 'recommended_action': 'continue', 'modality': 'text2text', 'modality_feedback': '', 'turn_id': 2, 'timestamp': '2025-09-01T11:29:35.970871'}, 'state': 'TEACHING', 'success': False, 'error_type': 'none', 'modality': 'text2text', 'turn_id': 2, 'timestamp': '2025-09-01T11:29:37.957399'}, {'student_response': 'Sept, huit, neuf, dix', 'analysis': {'understanding_level': 50.0, 'error_analysis': 'Analysis focused on text2text capabilities', 'error_type': 'none', 'confidence_assessment': 'medium', 'recommended_action': 'continue', 'modality': 'text2text', 'modality_feedback': '', 'turn_id': 3, 'timestamp': '2025-09-01T11:29:44.841781'}, 'state': 'TEACHING', 'success': False, 'error_type': 'none', 'modality': 'text2text', 'turn_id': 3, 'timestamp': '2025-09-01T11:29:47.157019'}], 'profiling_history': [{'understanding_level': 50.0, 'error_analysis': 'Analysis focused on text2text capabilities', 'error_type': 'none', 'confidence_assessment': 'medium', 'recommended_action': 'continue', 'modality': 'text2text', 'modality_feedback': '', 'turn_id': 0, 'timestamp': '2025-09-01T11:29:20.142512'}, {'understanding_level': 50.0, 'error_analysis': 'Analysis focused on text2text capabilities', 'error_type': 'none', 'confidence_assessment': 'medium', 'recommended_action': 'continue', 'modality': 'text2text', 'modality_feedback': '', 'turn_id': 1, 'timestamp': '2025-09-01T11:29:27.700854'}, {'understanding_level': 50.0, 'error_analysis': 'Analysis focused on text2text capabilities', 'error_type': 'none', 'confidence_assessment': 'medium', 'recommended_action': 'continue', 'modality': 'text2text', 'modality_feedback': '', 'turn_id': 2, 'timestamp': '2025-09-01T11:29:35.970871'}, {'understanding_level': 50.0, 'error_analysis': 'Analysis focused on text2text capabilities', 'error_type': 'none', 'confidence_assessment': 'medium', 'recommended_action': 'continue', 'modality': 'text2text', 'modality_feedback': '', 'turn_id': 3, 'timestamp': '2025-09-01T11:29:44.841781'}], 'assessment_history': [], 'session_modality': 'text2text', 'modality_switches': [], 'modality_performance': {'text2text': {'total_turns': 4, 'successes': 0, 'error_types': []}}, 'timestamp': '2025-09-01T11:29:47.157072', 'version': '1.0'}, 'state_controller_state': {'current_state': 'TEACHING', 'state_history': [{'from': 'INITIALIZING', 'to': 'INTRODUCTION', 'reason': 'System initialization', 'timestamp': '2025-09-01T11:29:14.383094', 'transition_id': 1, 'metadata': {}}, {'from': 'INTRODUCTION', 'to': 'TEACHING', 'reason': 'Introduction completed', 'timestamp': '2025-09-01T11:29:14.391956', 'transition_id': 2, 'metadata': {}}], 'transition_count': 2, 'version': '1.0'}, 'self_correction_state': {'is_active': False, 'current_error': None, 'attempt_count': 0, 'socratic_history': [], 'version': '1.0'}, 'system_configuration': {'tutor_name': 'Jacque', 'environment': 'test', 'default_modality': 'text2text'}, 'session_metadata': {'timestamp': '2025-09-01T11:29:47.157085', 'total_session_time': 2, 'curriculum_progress': 11.11111111111111}, 'version': '1.0'}, 'analytics': {'concept_mastery': {'bonjour': 'INTRODUCED', 'bonsoir': 'INTRODUCED', 'un': 'INTRODUCED', 'sept': 'INTRODUCED', 'huit': 'INTRODUCED', 'neuf': 'INTRODUCED', 'dix': 'INTRODUCED'}, 'error_patterns': {}, 'state_transitions': [{'from': 'INITIALIZING', 'to': 'INTRODUCTION', 'reason': 'System initialization', 'timestamp': '2025-09-01T11:29:14.383094', 'transition_id': 1, 'metadata': {}}, {'from': 'INTRODUCTION', 'to': 'TEACHING', 'reason': 'Introduction completed', 'timestamp': '2025-09-01T11:29:14.391956', 'transition_id': 2, 'metadata': {}}], 'turn_analytics': [{'student_response': 'Bonjour!', 'analysis': {'understanding_level': 50.0, 'error_analysis': 'Analysis focused on text2text capabilities', 'error_type': 'none', 'confidence_assessment': 'medium', 'recommended_action': 'continue', 'modality': 'text2text', 'modality_feedback': '', 'turn_id': 0, 'timestamp': '2025-09-01T11:29:20.142512'}, 'state': 'TEACHING', 'success': False, 'error_type': 'none', 'modality': 'text2text', 'turn_id': 0, 'timestamp': '2025-09-01T11:29:22.007470'}, {'student_response': 'Bonsoir?', 'analysis': {'understanding_level': 50.0, 'error_analysis': 'Analysis focused on text2text capabilities', 'error_type': 'none', 'confidence_assessment': 'medium', 'recommended_action': 'continue', 'modality': 'text2text', 'modality_feedback': '', 'turn_id': 1, 'timestamp': '2025-09-01T11:29:27.700854'}, 'state': 'TEACHING', 'success': False, 'error_type': 'none', 'modality': 'text2text', 'turn_id': 1, 'timestamp': '2025-09-01T11:29:29.776097'}, {'student_response': 'I think... salut?', 'analysis': {'understanding_level': 50.0, 'error_analysis': 'Analysis focused on text2text capabilities', 'error_type': 'none', 'confidence_assessment': 'medium', 'recommended_action': 'continue', 'modality': 'text2text', 'modality_feedback': '', 'turn_id': 2, 'timestamp': '2025-09-01T11:29:35.970871'}, 'state': 'TEACHING', 'success': False, 'error_type': 'none', 'modality': 'text2text', 'turn_id': 2, 'timestamp': '2025-09-01T11:29:37.957399'}, {'student_response': 'Sept, huit, neuf, dix', 'analysis': {'understanding_level': 50.0, 'error_analysis': 'Analysis focused on text2text capabilities', 'error_type': 'none', 'confidence_assessment': 'medium', 'recommended_action': 'continue', 'modality': 'text2text', 'modality_feedback': '', 'turn_id': 3, 'timestamp': '2025-09-01T11:29:44.841781'}, 'state': 'TEACHING', 'success': False, 'error_type': 'none', 'modality': 'text2text', 'turn_id': 3, 'timestamp': '2025-09-01T11:29:47.157019'}], 'profiling_trends': [{'understanding_level': 50.0, 'error_analysis': 'Analysis focused on text2text capabilities', 'error_type': 'none', 'confidence_assessment': 'medium', 'recommended_action': 'continue', 'modality': 'text2text', 'modality_feedback': '', 'turn_id': 0, 'timestamp': '2025-09-01T11:29:20.142512'}, {'understanding_level': 50.0, 'error_analysis': 'Analysis focused on text2text capabilities', 'error_type': 'none', 'confidence_assessment': 'medium', 'recommended_action': 'continue', 'modality': 'text2text', 'modality_feedback': '', 'turn_id': 1, 'timestamp': '2025-09-01T11:29:27.700854'}, {'understanding_level': 50.0, 'error_analysis': 'Analysis focused on text2text capabilities', 'error_type': 'none', 'confidence_assessment': 'medium', 'recommended_action': 'continue', 'modality': 'text2text', 'modality_feedback': '', 'turn_id': 2, 'timestamp': '2025-09-01T11:29:35.970871'}, {'understanding_level': 50.0, 'error_analysis': 'Analysis focused on text2text capabilities', 'error_type': 'none', 'confidence_assessment': 'medium', 'recommended_action': 'continue', 'modality': 'text2text', 'modality_feedback': '', 'turn_id': 3, 'timestamp': '2025-09-01T11:29:44.841781'}]}, 'progression_analysis': {'total_progressions': 2, 'natural_progressions': 0, 'forced_progressions': 2, 'level_changes': 0, 'topic_changes': 2, 'avg_turns_per_topic': 2.0, 'min_turns_per_topic': 2, 'max_turns_per_topic': 2, 'progression_efficiency': 0.0, 'status': 'completed_successfully'}, 'progression_log': [{'turn': 2, 'type': 'forced', 'from_level': 'A0', 'from_topic': 'Basic Greetings', 'to_level': 'A0', 'to_topic': 'Numbers 1-10', 'turns_in_topic': 2, 'advancement_result': {'advancement_type': 'topic', 'from': 'Basic Greetings', 'to': 'Numbers 1-10', 'level': 'A0', 'forced': True}}, {'turn': 4, 'type': 'forced', 'from_level': 'A0', 'from_topic': 'Numbers 1-10', 'to_level': 'A0', 'to_topic': 'Yes and No', 'turns_in_topic': 2, 'advancement_result': {'advancement_type': 'topic', 'from': 'Numbers 1-10', 'to': 'Yes and No', 'level': 'A0', 'forced': True}}], 'simulation_mode': 'progression_testing'}\n",
            "\n",
            "✅ Architecture 2 test passed!\n",
            "\n",
            "------------------------------------------------------------\n",
            "\n",
            "🏗️ Testing Architecture 3 (Generative Pattern v28)\n",
            "==================================================\n",
            "\n",
            "--- Starting Test for Externally Configurable Core Tutor Engine Module ---\n",
            "Test will pass Model Name: gemini-2.0-flash\n",
            "Test will pass Student ID: test_ext_config_sim_001\n",
            "Instantiating GenerativeTutorSystem with simulated student...\n",
            "Preparing dspy.LM for Gemini model: gemini-2.0-flash in test environment.\n",
            "Submitting configuration to dspy_manager...\n",
            "🔧 Configuring DSPy with <dspy.clients.lm.LM object at 0x78e48656d190> on thread 132922900948544\n",
            "✅ DSPy configured successfully on dedicated thread 132922900948544\n",
            "STATE TRANSITION [1]: INITIALIZING → INITIALIZING\n",
            "  Reason: Creating enhanced tutor system with tutor identity and interaction modality\n",
            "  Context: {'model_name': 'gemini-2.0-flash', 'environment': 'test', 'tutor_name': 'Marie', 'interaction_modality': 'text2text', 'use_mock': False, 'simulated_student': True, 'sim_interaction_delay': 3, 'num_sim_turns_per_topic': 2, 'max_overall_sim_turns': 3, 'curriculum_enrichments': {'cultural_contexts': 4, 'etymology_entries': 8, 'spiral_levels': 3}}\n",
            "Initializing Enhanced Generative Tutor System with tutor identity: Marie and modality: text2text\n",
            "STATE TRANSITION [2]: INITIALIZING → INITIALIZING\n",
            "  Reason: System initialization with tutor identity and interaction modality\n",
            "  Context: {'tutor_name': 'Marie', 'interaction_modality': 'text2text', 'curriculum_topics': 3, 'use_simulated_student': True}\n",
            "✅ Enhanced Stateless Tutor System Created\n",
            "   Tutor Identity: Marie\n",
            "   Interaction Modality: text2text\n",
            "   Model: gemini-2.0-flash in test environment (Live)\n",
            "   Cultural Contexts: 4 categories\n",
            "   Etymology Entries: 8 words\n",
            "   Curriculum Levels: 3 proficiency levels\n",
            "   State Logging: Enabled with 12 tracked states\n",
            "   Simulation Config: 3s delay, 2 turns/topic, 3 max turns\n",
            "   State Management: Stateless call-level architecture\n",
            "GenerativeTutorSystem instantiated successfully.\n",
            "\n",
            "Starting a short simulated session test (max 3 overall turns)...\n",
            "Starting enhanced simulated session with rich curriculum...\n",
            "STATE TRANSITION [3]: INITIALIZING → SESSION_STARTED\n",
            "  Reason: Starting session with topic: Basic Greetings & Politeness\n",
            "  Context: {'level': 'A0', 'topic': 'Basic Greetings & Politeness'}\n",
            "STATE TRANSITION [4]: SESSION_STARTED → CONCEPT_TEACHING\n",
            "  Reason: Analyzing student understanding for topic: Basic Greetings & Politeness\n",
            "  Context: {'understood': True, 'topic': 'Basic Greetings & Politeness', 'interaction_modality': 'text2text'}\n",
            "Initial State: CONCEPT_TEACHING\n",
            "STATE TRANSITION [5]: CONCEPT_TEACHING → STUDENT_PRACTICE\n",
            "  Reason: Processing student response\n",
            "  Context: {'topic': 'Basic Greetings & Politeness', 'response_length': 101, 'interaction_modality': 'text2text'}\n",
            "STATE TRANSITION [6]: STUDENT_PRACTICE → CONCEPT_TEACHING\n",
            "  Reason: Analyzing student understanding for topic: Basic Greetings & Politeness\n",
            "  Context: {'understood': True, 'topic': 'Basic Greetings & Politeness', 'interaction_modality': 'text2text'}\n",
            "Turn 1: Enrichments - Cultural(2) Etymology(2) Spiral(0)\n",
            "STATE TRANSITION [7]: CONCEPT_TEACHING → STUDENT_PRACTICE\n",
            "  Reason: Processing student response\n",
            "  Context: {'topic': 'Basic Greetings & Politeness', 'response_length': 213, 'interaction_modality': 'text2text'}\n",
            "STATE TRANSITION [8]: STUDENT_PRACTICE → CONCEPT_TEACHING\n",
            "  Reason: Analyzing student understanding for topic: Basic Greetings & Politeness\n",
            "  Context: {'understood': True, 'topic': 'Basic Greetings & Politeness', 'interaction_modality': 'text2text'}\n",
            "STATE TRANSITION [9]: CONCEPT_TEACHING → MASTERY_EVALUATION\n",
            "  Reason: Evaluating mastery for topic: Basic Greetings & Politeness\n",
            "  Context: {'consecutive_correct': 3, 'enrichment_engagement': True, 'cultural_contexts_used': 3, 'etymology_connections_made': 3}\n",
            "STATE TRANSITION [10]: MASTERY_EVALUATION → TOPIC_ADVANCEMENT\n",
            "  Reason: Topic 'Basic Greetings & Politeness' mastered\n",
            "  Context: {'level': 'A0', 'topic': 'Basic Greetings & Politeness', 'consecutive_correct': 3}\n",
            "STATE TRANSITION [11]: TOPIC_ADVANCEMENT → TOPIC_INTRODUCTION\n",
            "  Reason: Advancing to new topic: Numbers 0-10 & Basic Counting\n",
            "  Context: {'level': 'A0', 'new_topic': 'Numbers 0-10 & Basic Counting'}\n",
            "STATE TRANSITION [12]: TOPIC_INTRODUCTION → SESSION_STARTED\n",
            "  Reason: Starting session with topic: Numbers 0-10 & Basic Counting\n",
            "  Context: {'level': 'A0', 'topic': 'Numbers 0-10 & Basic Counting'}\n",
            "STATE TRANSITION [13]: SESSION_STARTED → CONCEPT_TEACHING\n",
            "  Reason: Analyzing student understanding for topic: Numbers 0-10 & Basic Counting\n",
            "  Context: {'understood': True, 'topic': 'Numbers 0-10 & Basic Counting', 'interaction_modality': 'text2text'}\n",
            "Turn 2: Enrichments - Cultural(4) Etymology(4) Spiral(0)\n",
            "\n",
            "✅ --- Ran Simulated Session Successfully ---\n",
            "\n",
            "--- Externally Configurable Core Tutor Engine Module Test Finished ---\n",
            "\n",
            "✅ Architecture 3 test passed!\n",
            "\n",
            "============================================================\n",
            "🎯 All architecture tests completed!\n",
            "============================================================\n"
          ]
        }
      ]
    },
    {
      "cell_type": "markdown",
      "source": [
        "# Test Results Summary\n",
        "\n",
        "After running the tests, check the output above for:\n",
        "\n",
        "**Architecture 1 (Facade v47)**\n",
        "- ✅ System initialization\n",
        "- ✅ Simulation execution with 4 turns\n",
        "- ✅ Environment and modality configuration\n",
        "\n",
        "**Architecture 2 (System v41)**\n",
        "- ✅ Complete system creation\n",
        "- ✅ Deterministic simulation with progression testing\n",
        "- ✅ Analytics and state management validation\n",
        "\n",
        "**Architecture 3 (Generative v28)**\n",
        "- ✅ Enhanced tutor system with rich curriculum\n",
        "- ✅ Cultural contexts and etymology integration\n",
        "- ✅ Simulated session with tutor identity\n",
        "\n",
        "All architectures should complete successfully with their respective testing methodologies.\n",
        "\n",
        "---\n",
        "\n",
        "## Troubleshooting\n",
        "\n",
        "If you encounter import errors:\n",
        "1. **Check Repository Setup**: Ensure the repository setup cell ran successfully\n",
        "2. **Verify Directory**: Current working directory should be `language-tutor-research`\n",
        "3. **Check Repository URL**: The repository URL is now correctly set to amazethu/language-tutor-research\n",
        "4. **Module Availability**: Ensure the specific architecture modules exist in the `src/` directory\n",
        "\n",
        "If tests fail:\n",
        "1. **API Keys**: Some tests require valid API keys for language models (Gemini, Anthropic)\n",
        "2. **Network Access**: Ensure Colab has internet access for API calls\n",
        "3. **Dependencies**: Re-run the dependency installation cell if needed"
      ],
      "metadata": {
        "id": "test_summary"
      }
    }
  ]
}